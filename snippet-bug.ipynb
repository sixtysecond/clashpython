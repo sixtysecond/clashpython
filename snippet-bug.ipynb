{
 "metadata": {
  "name": "",
  "signature": "sha256:e5627a0c3c6fa82ce2bfd46e727e8ea2461dfa2632c26fe10053fe57693dc73f"
 },
 "nbformat": 3,
 "nbformat_minor": 0,
 "worksheets": [
  {
   "cells": [
    {
     "cell_type": "code",
     "collapsed": false,
     "input": [
      "#pandas 0.16.2\n",
      "#python 3.4.3\n",
      "\n",
      "import pandas as pd\n",
      "import requests \n",
      "import re\n",
      "\n",
      "url = 'http://clashofclans.wikia.com/wiki/Barbarian'\n",
      "\n",
      "overview_regex = re.compile('Preferred|Radius')\n",
      "overview_table =  pd.read_html(url, match=overview_regex, header=0 )\n",
      "print overview_table #expect attack speed = 20s or 20 seconds, actual = 2015-07-27 00:00:01 \n",
      "\n",
      "print '----'\n",
      "levels_regex = re.compile('Hitpoints|Total')\n",
      "levels_table =  pd.read_html(url, match=levels_regex, header=0 )\n",
      "print levels_table #expect reserach time in hours or days, actual = NaT or 2015-07-27 06:00:00\n"
     ],
     "language": "python",
     "metadata": {},
     "outputs": [
      {
       "output_type": "stream",
       "stream": "stdout",
       "text": [
        "[  Preferred Target          Attack Type  Housing Space       Training Time  \\\n",
        "0             None  Melee (Ground\u00a0Only)              1 2015-07-27 00:00:20   \n",
        "\n",
        "   Movement Speed        Attack Speed  Barracks Level Required      Range  \n",
        "0              16 2015-07-27 00:00:01                        1  0.4 tiles  ]\n",
        "----\n",
        "[   Level  Damage per Second  Hitpoints  \\\n",
        "0      1                  8         45   \n",
        "1      2                 11         54   \n",
        "2      3                 14         65   \n",
        "3      4                 18         78   \n",
        "4      5                 23         95   \n",
        "5      6                 26        110   \n",
        "6      7                 30        125   \n",
        "\n",
        "   Training Cost <img src=\"http://img4.wikia.nocookie.net/__cb20150512023705/clashofclans/images/thumb/4/43/Elixir.png/18px-Elixir.png\" alt=\"Elixir\" class=\"\" data-image-key=\"Elixir.png\" data-image-name=\"Elixir.png\" width=\"18\" height=\"18\" >  \\\n",
        "0                                                 25                                                                                                                                                                                              \n",
        "1                                                 40                                                                                                                                                                                              \n",
        "2                                                 60                                                                                                                                                                                              \n",
        "3                                                100                                                                                                                                                                                              \n",
        "4                                                150                                                                                                                                                                                              \n",
        "5                                                200                                                                                                                                                                                              \n",
        "6                                                250                                                                                                                                                                                              \n",
        "\n",
        "   Research Cost <img src=\"http://img4.wikia.nocookie.net/__cb20150512023705/clashofclans/images/thumb/4/43/Elixir.png/18px-Elixir.png\" alt=\"Elixir\" class=\"\" data-image-key=\"Elixir.png\" data-image-name=\"Elixir.png\" width=\"18\" height=\"18\" >  \\\n",
        "0                                                NaN                                                                                                                                                                                              \n",
        "1                                              50000                                                                                                                                                                                              \n",
        "2                                             150000                                                                                                                                                                                              \n",
        "3                                             500000                                                                                                                                                                                              \n",
        "4                                            1500000                                                                                                                                                                                              \n",
        "5                                            4500000                                                                                                                                                                                              \n",
        "6                                            6000000                                                                                                                                                                                              \n",
        "\n",
        "   Laboratory Level Required       Research Time  \n",
        "0                        NaN                 NaT  \n",
        "1                          1 2015-07-27 06:00:00  \n",
        "2                          3                 NaT  \n",
        "3                          5                 NaT  \n",
        "4                          6                 NaT  \n",
        "5                          7                 NaT  \n",
        "6                          8                 NaT  ]"
       ]
      },
      {
       "output_type": "stream",
       "stream": "stdout",
       "text": [
        "\n"
       ]
      }
     ],
     "prompt_number": 10
    },
    {
     "cell_type": "code",
     "collapsed": false,
     "input": [],
     "language": "python",
     "metadata": {},
     "outputs": []
    }
   ],
   "metadata": {}
  }
 ]
}