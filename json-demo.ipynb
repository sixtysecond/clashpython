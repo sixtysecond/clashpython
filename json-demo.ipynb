{
 "metadata": {
  "name": "",
  "signature": "sha256:0d5ade92280623a3003cce5baefcfc98a4bc7705033bffd467940c03b43f9f9d"
 },
 "nbformat": 3,
 "nbformat_minor": 0,
 "worksheets": [
  {
   "cells": [
    {
     "cell_type": "code",
     "collapsed": false,
     "input": [
      "import numpy as np\n",
      "import pandas\n",
      "import copy\n",
      "import json as json\n",
      "\n"
     ],
     "language": "python",
     "metadata": {},
     "outputs": [],
     "prompt_number": 23
    },
    {
     "cell_type": "code",
     "collapsed": false,
     "input": [
      "columns = ['some', 'column', 'headers']\n",
      "index = np.arange(103) # array of numbers for the number of samples\n",
      "df = pandas.DataFrame(columns=columns, index = index)"
     ],
     "language": "python",
     "metadata": {},
     "outputs": [],
     "prompt_number": 9
    },
    {
     "cell_type": "code",
     "collapsed": false,
     "input": [
      "myarray = np.random.random((10,3))\n",
      "for val, item in enumerate(myarray):\n",
      "    df.ix[val] = item"
     ],
     "language": "python",
     "metadata": {},
     "outputs": [],
     "prompt_number": 10
    },
    {
     "cell_type": "code",
     "collapsed": false,
     "input": [
      "mydata = [{'subid' : 'B14-111', 'age': 75, 'fdg':1.78},\n",
      "          {'subid' : 'B14-112', 'age': 22, 'fdg':1.56},]\n",
      "df = pandas.DataFrame(mydata)\n",
      "print df"
     ],
     "language": "python",
     "metadata": {},
     "outputs": [
      {
       "output_type": "stream",
       "stream": "stdout",
       "text": [
        "   age   fdg    subid\n",
        "0   75  1.78  B14-111\n",
        "1   22  1.56  B14-112\n"
       ]
      }
     ],
     "prompt_number": 12
    },
    {
     "cell_type": "code",
     "collapsed": false,
     "input": [
      "print df\n",
      "dict =  df.to_dict()\n",
      "dict2 = copy.deepcopy(dict)\n",
      "\n",
      "#print df.Series(values, index=index)\n",
      "#obj = {}\n",
      "#obj['df1'] = df.Series(values, index=index)\n",
      "#obj['df2'] = copy.deepcopy(df.Series(values, index=index))\n",
      "#obj['name'] = 'foo'\n",
      "#print obj\n",
      "#print obj"
     ],
     "language": "python",
     "metadata": {},
     "outputs": [
      {
       "output_type": "stream",
       "stream": "stdout",
       "text": [
        "   age   fdg    subid\n",
        "0   75  1.78  B14-111\n",
        "1   22  1.56  B14-112\n"
       ]
      }
     ],
     "prompt_number": 20
    },
    {
     "cell_type": "code",
     "collapsed": false,
     "input": [
      "obj = {}\n",
      "obj['dict1'] = dict\n",
      "obj['dict2'] = dict2\n",
      "obj['name'] = 'foo'\n",
      "print obj"
     ],
     "language": "python",
     "metadata": {},
     "outputs": [
      {
       "output_type": "stream",
       "stream": "stdout",
       "text": [
        "{'dict1': {'subid': {0: 'B14-111', 1: 'B14-112'}, 'age': {0: 75, 1: 22}, 'fdg': {0: 1.78, 1: 1.5600000000000001}}, 'name': 'foo', 'dict2': {'subid': {0: 'B14-111', 1: 'B14-112'}, 'age': {0: 75, 1: 22}, 'fdg': {0: 1.78, 1: 1.5600000000000001}}}\n"
       ]
      }
     ],
     "prompt_number": 22
    },
    {
     "cell_type": "code",
     "collapsed": false,
     "input": [
      "print json.dumps(obj)"
     ],
     "language": "python",
     "metadata": {},
     "outputs": [
      {
       "output_type": "stream",
       "stream": "stdout",
       "text": [
        "{\"dict1\": {\"subid\": {\"0\": \"B14-111\", \"1\": \"B14-112\"}, \"age\": {\"0\": 75, \"1\": 22}, \"fdg\": {\"0\": 1.78, \"1\": 1.5600000000000001}}, \"name\": \"foo\", \"dict2\": {\"subid\": {\"0\": \"B14-111\", \"1\": \"B14-112\"}, \"age\": {\"0\": 75, \"1\": 22}, \"fdg\": {\"0\": 1.78, \"1\": 1.5600000000000001}}}\n"
       ]
      }
     ],
     "prompt_number": 24
    },
    {
     "cell_type": "code",
     "collapsed": false,
     "input": [],
     "language": "python",
     "metadata": {},
     "outputs": []
    }
   ],
   "metadata": {}
  }
 ]
}