{
 "metadata": {
  "name": "",
  "signature": "sha256:aec0ea2958719ab83b8b7681864c48223000f34ee1839ebee51c2068194b84bf"
 },
 "nbformat": 3,
 "nbformat_minor": 0,
 "worksheets": [
  {
   "cells": [
    {
     "cell_type": "heading",
     "level": 1,
     "metadata": {},
     "source": [
      "Load CSV into Dataframe Dictionary"
     ]
    },
    {
     "cell_type": "heading",
     "level": 6,
     "metadata": {},
     "source": [
      "Loads all CSV files in the specified directory as Dataframes. \n",
      "The dataframes are organized into dictionaries, which are further grouped by categories. \n",
      "It is expected that the words are separated by underscored and the first word is a category."
     ]
    },
    {
     "cell_type": "code",
     "collapsed": false,
     "input": [
      "import glob\n",
      "import pandas as pd\n",
      "\n",
      "def get_category_to_name_to_dataframe( path ):\n",
      "\n",
      "    category_to_name_to_dataframe = {}\n",
      "    for file in glob.glob(path + \"/*.csv\"):\n",
      "        file_sanitized = file.replace('csv/','').replace('.csv','')\n",
      "        file_split = file_sanitized.split('_')\n",
      "        category = file_split[0]\n",
      "    \n",
      "        if category not in category_to_name_to_dataframe:\n",
      "            category_to_name_to_dataframe[category] = {}\n",
      "\n",
      "        to_replace = category + '_'\n",
      "        name = file_sanitized.replace(to_replace, '')\n",
      "\n",
      "        dataframe = pd.read_csv(file)\n",
      "\n",
      "        #print category\n",
      "        #print name\n",
      "        #print dataframe\n",
      "\n",
      "        category_to_name_to_dataframe[category][name] = dataframe\n",
      "\n",
      "    return category_to_name_to_dataframe\n",
      "\n",
      "category_to_name_to_dataframe = get_category_to_name_to_dataframe('csv')\n",
      "for category, name_to_dataframe in category_to_name_to_dataframe.iteritems():\n",
      "    print category\n",
      "    \n",
      "level = category_to_name_to_dataframe['level']\n",
      "meta = category_to_name_to_dataframe['meta']"
     ],
     "language": "python",
     "metadata": {},
     "outputs": [
      {
       "output_type": "stream",
       "stream": "stdout",
       "text": [
        "meta\n",
        "level\n"
       ]
      }
     ],
     "prompt_number": 1
    },
    {
     "cell_type": "code",
     "collapsed": false,
     "input": [
      "\n",
      "def is_hero ( name):\n",
      "    #print 'name='+name\n",
      "\n",
      "    if name == 'barbarian_king':\n",
      "        return True\n",
      "    elif name == 'archer_queen':\n",
      "        return True\n",
      "    \n",
      "    return False"
     ],
     "language": "python",
     "metadata": {},
     "outputs": [],
     "prompt_number": 2
    },
    {
     "cell_type": "code",
     "collapsed": false,
     "input": [
      "troop_names = []\n",
      "for name, dataframe in level.iteritems():\n",
      "    if 'Hitpoints' in dataframe.columns and not is_hero(name):\n",
      "        troop_names.append(name)    \n",
      "        \n",
      "hero_names = []\n",
      "for name, dataframe in level.iteritems():\n",
      "    if 'Hitpoints' in dataframe.columns and is_hero(name):\n",
      "        hero_names.append(name)    \n",
      "\n",
      "print 'troop_names=' + str(troop_names)\n",
      "print 'hero_names=' + str(hero_names)"
     ],
     "language": "python",
     "metadata": {},
     "outputs": [
      {
       "output_type": "stream",
       "stream": "stdout",
       "text": [
        "troop_names=['barbarian', 'witch_skeleton', 'healer', 'dragon', 'wall_breaker', 'golem', 'giant', 'balloon', 'wizard', 'minion', 'pekka', 'hog_rider', 'witch', 'goblin', 'valkyrie', 'lava_hound_lava_pup', 'archer', 'lava_hound', 'golem_golemite']\n",
        "hero_names=['barbarian_king', 'archer_queen']\n"
       ]
      }
     ],
     "prompt_number": 3
    },
    {
     "cell_type": "code",
     "collapsed": false,
     "input": [
      "def filter_dict_keys( dictionary, key_list):\n",
      "    return {k:v for (k,v) in dictionary.items() if k in key_list}\n",
      "\n",
      "troop_to_dataframe = filter_dict_keys( level, troop_names)\n",
      "print troop_to_dataframe.keys()\n",
      "\n",
      "hero_to_dataframe = filter_dict_keys( level, hero_names)\n",
      "print hero_to_dataframe.keys()"
     ],
     "language": "python",
     "metadata": {},
     "outputs": [
      {
       "output_type": "stream",
       "stream": "stdout",
       "text": [
        "['golem', 'giant', 'goblin', 'archer', 'pekka', 'minion', 'valkyrie', 'balloon', 'wizard', 'golem_golemite', 'lava_hound', 'dragon', 'hog_rider', 'lava_hound_lava_pup', 'witch', 'witch_skeleton', 'healer', 'barbarian', 'wall_breaker']\n",
        "['barbarian_king', 'archer_queen']\n"
       ]
      }
     ],
     "prompt_number": 4
    },
    {
     "cell_type": "code",
     "collapsed": false,
     "input": [
      "def get_dataframe_columns( name_to_dataframe ) :\n",
      "    columns = set([])\n",
      "    for name, dataframe in name_to_dataframe.iteritems():\n",
      "        columns = columns.union(dataframe.columns)\n",
      "    return columns\n",
      "    \n",
      "meta_columns = get_dataframe_columns(meta)\n",
      "troop_columns = get_dataframe_columns(troop_to_dataframe)\n",
      "hero_columns = get_dataframe_columns(troop_to_dataframe)\n",
      "\n",
      "print 'meta_columns='+ str(meta_columns)\n",
      "print 'troop_columns='+ str(troop_columns)\n",
      "print 'hero_columns='+ str(hero_columns)"
     ],
     "language": "python",
     "metadata": {},
     "outputs": [
      {
       "output_type": "stream",
       "stream": "stdout",
       "text": [
        "meta_columns=set(['Heal Speed', 'Favourite Target', 'Housing Space', 'Time to Brew', 'Unnamed: 0', 'Range', 'Spell Factory Level Required', 'Targets', 'Attack Speed', 'Dark Spell Factory Level Required', 'Death Damage Radius', 'Number of Pulses', 'Boost Time', 'Search Radius', 'Training Time', 'Preferred Target', 'Time to Create', 'Barracks Level Required', 'Movement Speed', 'Time Between Strikes', 'Radius', 'Time Between Pulses', 'Number of Strikes', 'Summon Cooldown', 'Random Radius', 'Dark Barracks Level Required', 'Attack Type'])\n",
        "troop_columns=set(['Healing per Second', 'Damage Upon Death', 'Level', 'Damage', 'Training Cost Elixir', 'Laboratory Level Required', 'Skeletons Summoned', 'Damage vs. Walls', 'Unnamed: 0', 'Damage per Second', 'Research Cost Dark elixir', 'Damage per Attack', 'DPS on Resource Buildings', 'Lava Pups Spawned (After Death)', 'Healing per Pulse', 'Research Time', 'Hitpoints', 'Training Cost Dark elixir', 'Research Cost Elixir'])\n",
        "hero_columns=set(['Healing per Second', 'Damage Upon Death', 'Level', 'Damage', 'Training Cost Elixir', 'Laboratory Level Required', 'Skeletons Summoned', 'Damage vs. Walls', 'Unnamed: 0', 'Damage per Second', 'Research Cost Dark elixir', 'Damage per Attack', 'DPS on Resource Buildings', 'Lava Pups Spawned (After Death)', 'Healing per Pulse', 'Research Time', 'Hitpoints', 'Training Cost Dark elixir', 'Research Cost Elixir'])\n"
       ]
      }
     ],
     "prompt_number": 105
    },
    {
     "cell_type": "code",
     "collapsed": false,
     "input": [
      "def init_attribute_to_dataframe( entity_to_dataframe ):\n",
      "\n",
      "    attribute_to_dataframe = {}\n",
      "    attribute_columns = set([])\n",
      "    \n",
      "    for entity, dataframe in entity_to_dataframe.iteritems():\n",
      "        attribute_columns = attribute_columns.union(dataframe.columns)\n",
      "    #print attribute_columns\n",
      "\n",
      "    for attribute in attribute_columns:\n",
      "        attribute_to_dataframe[attribute] = pd.DataFrame()\n",
      "    #print attribute_to_entity_dataframe\n",
      "    \n",
      "    return attribute_to_dataframe\n",
      "    \n",
      "#troop_attribute_to_dataframe = init_attribute_to_dataframe(troop_to_dataframe)\n",
      "#print troop_attribute_to_dataframe.keys()\n",
      "\n",
      "#hero_attribute_to_dataframe = init_attribute_to_dataframe(hero_to_dataframe)\n",
      "#print hero_attribute_to_dataframe.keys()"
     ],
     "language": "python",
     "metadata": {},
     "outputs": [
      {
       "output_type": "stream",
       "stream": "stdout",
       "text": [
        "['Skeletons Summoned', 'Damage vs. Walls', 'Unnamed: 0', 'Damage Upon Death', 'Level', 'Research Cost Dark elixir', 'Healing per Second', 'DPS on Resource Buildings', 'Damage', 'Training Cost Dark elixir', 'Lava Pups Spawned (After Death)', 'Research Cost Elixir', 'Healing per Pulse', 'Training Cost Elixir', 'Research Time', 'Damage per Second', 'Hitpoints', 'Laboratory Level Required', 'Damage per Attack']\n",
        "['Damage per Hit', 'Unnamed: 0', 'Town Hall Level Required', 'Level', 'Damage per Second', 'Ability Level', 'DPS in Ability', 'Training Time', 'Hitpoints', 'Regen Time', 'Training Cost Dark elixir']\n"
       ]
      }
     ],
     "prompt_number": 8
    },
    {
     "cell_type": "markdown",
     "metadata": {},
     "source": []
    },
    {
     "cell_type": "code",
     "collapsed": false,
     "input": [
      "def get_attribute_to_entity_dataframe( entity_to_attribtue_levels):\n",
      "    attribute_to_entity_levels = init_attribute_to_dataframe( entity_to_attribtue_levels )\n",
      "    \n",
      "    for entity, attribute_levels in entity_to_attribtue_levels.iteritems():\n",
      "        #print attribute_levels\n",
      "        for attribute in attribute_levels.columns:\n",
      "            #print 'attribute='+attribute\n",
      "            #print 'attribute_levels='+str(attribute_levels)\n",
      "            #print 'attribute_levels[attribute]='+ str(attribute_levels[attribute].to_dict())\n",
      "            #print 'attribute_levels[attribute_levels[attribute]]='+ str(attribute_levels[attribute])\n",
      "            attribute_series = attribute_levels[attribute]\n",
      "            attribute_series.name = entity\n",
      "            #print attribute_series\n",
      "            attribute_to_entity_levels[attribute] = attribute_to_entity_levels[attribute].append(attribute_series)\n",
      "\n",
      "    #for attribute, entity_levels in attribute_to_entity_levels.iteritems():\n",
      "    #    entity_levels.T()\n",
      "    \n",
      "    return attribute_to_entity_levels\n",
      "\n",
      "hero_attribute_to_entity_levels = get_attribute_to_entity_dataframe( hero_to_dataframe )\n",
      "troop_attribute_to_entity_levels = get_attribute_to_entity_dataframe( troop_to_dataframe )\n",
      "print troop_attribute_to_entity_levels.keys()"
     ],
     "language": "python",
     "metadata": {},
     "outputs": [
      {
       "output_type": "stream",
       "stream": "stdout",
       "text": [
        "['Skeletons Summoned', 'Damage vs. Walls', 'Unnamed: 0', 'Damage Upon Death', 'Level', 'Research Cost Dark elixir', 'Healing per Second', 'DPS on Resource Buildings', 'Damage', 'Training Cost Dark elixir', 'Lava Pups Spawned (After Death)', 'Research Cost Elixir', 'Healing per Pulse', 'Training Cost Elixir', 'Research Time', 'Damage per Second', 'Hitpoints', 'Laboratory Level Required', 'Damage per Attack']\n"
       ]
      }
     ],
     "prompt_number": 11
    },
    {
     "cell_type": "code",
     "collapsed": false,
     "input": [
      "print troop_attribute_to_entity_levels['Damage per Second']"
     ],
     "language": "python",
     "metadata": {},
     "outputs": [
      {
       "output_type": "stream",
       "stream": "stdout",
       "text": [
        "                       0    1    2    3    4    5   6\n",
        "golem                 38   42   46   50   54  NaN NaN\n",
        "giant                 11   14   19   24   31   43  50\n",
        "goblin                11   14   19   24   32   42 NaN\n",
        "archer                 7    9   12   16   20   22  25\n",
        "pekka                240  270  300  340  380  NaN NaN\n",
        "minion                35   38   42   46   50   54 NaN\n",
        "valkyrie              88   99  111  124  NaN  NaN NaN\n",
        "balloon               25   32   48   72  108  162 NaN\n",
        "wizard                50   70   90  125  170  180 NaN\n",
        "golem_golemite         7    8    9   10   11  NaN NaN\n",
        "lava_hound            10   12   14  NaN  NaN  NaN NaN\n",
        "dragon               140  160  180  200  220  NaN NaN\n",
        "hog_rider             60   70   80   92  105  NaN NaN\n",
        "lava_hound_lava_pup   35  NaN  NaN  NaN  NaN  NaN NaN\n",
        "witch                 25   30  NaN  NaN  NaN  NaN NaN\n",
        "witch_skeleton        25  NaN  NaN  NaN  NaN  NaN NaN\n",
        "barbarian              8   11   14   18   23   26  30\n"
       ]
      }
     ],
     "prompt_number": 12
    },
    {
     "cell_type": "code",
     "collapsed": false,
     "input": [],
     "language": "python",
     "metadata": {},
     "outputs": []
    }
   ],
   "metadata": {}
  }
 ]
}