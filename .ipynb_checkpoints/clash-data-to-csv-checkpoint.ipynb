{
 "metadata": {
  "name": "",
  "signature": "sha256:b79a28b421b086bd414969a3d4f70986a837e4f1b00c378f185c0f670d27a4bc"
 },
 "nbformat": 3,
 "nbformat_minor": 0,
 "worksheets": [
  {
   "cells": [
    {
     "cell_type": "heading",
     "level": 1,
     "metadata": {},
     "source": [
      "Clash of Clans Data To CSV"
     ]
    },
    {
     "cell_type": "code",
     "collapsed": false,
     "input": [
      "import pandas as pd\n",
      "import requests\n",
      "import re\n",
      "import os\n",
      "from bs4 import BeautifulSoup\n",
      "import unittest\n",
      "\n",
      "tc = unittest.TestCase('__init__')"
     ],
     "language": "python",
     "metadata": {},
     "outputs": [],
     "prompt_number": 72
    },
    {
     "cell_type": "code",
     "collapsed": false,
     "input": [
      "def get_name_to_link(url, attribute_class):\n",
      "    html = requests.get(url)\n",
      "    soup = BeautifulSoup(html.text, \"html.parser\")\n",
      "    table = soup.find('table', attrs={\"class\":attribute_class})\n",
      "    name_to_link = {}\n",
      "    \n",
      "    for row in table.findAll('tr'):\n",
      "        columns = row.findAll('td')\n",
      "        if (columns):\n",
      "            category_link = columns[0].find('a')\n",
      "            links = columns[1].findAll('a');   \n",
      "            for link in links:\n",
      "            \n",
      "                name = link['title'].lower().replace(' ', '_').replace('/', '_').replace(\"'\", '').replace('.','')\n",
      "                name_to_link[ name ]= link['href']\n",
      "    return name_to_link\n",
      "troop_name_to_link = get_name_to_link('http://clashofclans.wikia.com/wiki/Troops', \"article-table\")\n",
      "print troop_name_to_link\n",
      "tc.assertTrue('minion' in troop_name_to_link)\n"
     ],
     "language": "python",
     "metadata": {},
     "outputs": [
      {
       "output_type": "stream",
       "stream": "stdout",
       "text": [
        "{u'minion': u'/wiki/Minion', u'lightning_spell': u'/wiki/Lightning_Spell', u'barbarian': u'/wiki/Barbarian', u'witch_skeleton': u'/wiki/Witch/Skeleton', u'healer': u'/wiki/Healer', u'dragon': u'/wiki/Dragon', u'wall_breaker': u'/wiki/Wall_Breaker', u'rage_spell': u'/wiki/Rage_Spell', u'golem': u'/wiki/Golem', u'giant': u'/wiki/Giant', u'balloon': u'/wiki/Balloon', u'wizard': u'/wiki/Wizard', u'earthquake_spell': u'/wiki/Earthquake_Spell', u'barbarian_king': u'/wiki/Barbarian_King', u'jump_spell': u'/wiki/Jump_Spell', u'pekka': u'/wiki/P.E.K.K.A', u'archer_queen': u'/wiki/Archer_Queen', u'poison_spell': u'/wiki/Poison_Spell', u'healing_spell': u'/wiki/Healing_Spell', u'hog_rider': u'/wiki/Hog_Rider', u'witch': u'/wiki/Witch', u'goblin': u'/wiki/Goblin', u'haste_spell': u'/wiki/Haste_Spell', u'valkyrie': u'/wiki/Valkyrie', u'lava_hound_lava_pup': u'/wiki/Lava_Hound/Lava_Pup', u'archer': u'/wiki/Archer', u'lava_hound': u'/wiki/Lava_Hound', u'freeze_spell': u'/wiki/Freeze_Spell', u'golem_golemite': u'/wiki/Golem/Golemite', u'santas_surprise': u'/wiki/Santa%27s_Surprise'}\n"
       ]
      },
      {
       "ename": "AssertionError",
       "evalue": "False is not true",
       "output_type": "pyerr",
       "traceback": [
        "\u001b[0;31m---------------------------------------------------------------------------\u001b[0m\n\u001b[0;31mAssertionError\u001b[0m                            Traceback (most recent call last)",
        "\u001b[0;32m<ipython-input-75-5919d0313a7f>\u001b[0m in \u001b[0;36m<module>\u001b[0;34m()\u001b[0m\n\u001b[1;32m     17\u001b[0m \u001b[0mtroop_name_to_link\u001b[0m \u001b[0;34m=\u001b[0m \u001b[0mget_name_to_link\u001b[0m\u001b[0;34m(\u001b[0m\u001b[0;34m'http://clashofclans.wikia.com/wiki/Troops'\u001b[0m\u001b[0;34m,\u001b[0m \u001b[0;34m\"article-table\"\u001b[0m\u001b[0;34m)\u001b[0m\u001b[0;34m\u001b[0m\u001b[0m\n\u001b[1;32m     18\u001b[0m \u001b[0;32mprint\u001b[0m \u001b[0mtroop_name_to_link\u001b[0m\u001b[0;34m\u001b[0m\u001b[0m\n\u001b[0;32m---> 19\u001b[0;31m \u001b[0mtc\u001b[0m\u001b[0;34m.\u001b[0m\u001b[0massertTrue\u001b[0m\u001b[0;34m(\u001b[0m\u001b[0;34m'minion2'\u001b[0m \u001b[0;32min\u001b[0m \u001b[0mtroop_name_to_link\u001b[0m\u001b[0;34m)\u001b[0m\u001b[0;34m\u001b[0m\u001b[0m\n\u001b[0m",
        "\u001b[0;32m/Applications/anaconda/anaconda/lib/python2.7/unittest/case.pyc\u001b[0m in \u001b[0;36massertTrue\u001b[0;34m(self, expr, msg)\u001b[0m\n\u001b[1;32m    422\u001b[0m         \u001b[0;32mif\u001b[0m \u001b[0;32mnot\u001b[0m \u001b[0mexpr\u001b[0m\u001b[0;34m:\u001b[0m\u001b[0;34m\u001b[0m\u001b[0m\n\u001b[1;32m    423\u001b[0m             \u001b[0mmsg\u001b[0m \u001b[0;34m=\u001b[0m \u001b[0mself\u001b[0m\u001b[0;34m.\u001b[0m\u001b[0m_formatMessage\u001b[0m\u001b[0;34m(\u001b[0m\u001b[0mmsg\u001b[0m\u001b[0;34m,\u001b[0m \u001b[0;34m\"%s is not true\"\u001b[0m \u001b[0;34m%\u001b[0m \u001b[0msafe_repr\u001b[0m\u001b[0;34m(\u001b[0m\u001b[0mexpr\u001b[0m\u001b[0;34m)\u001b[0m\u001b[0;34m)\u001b[0m\u001b[0;34m\u001b[0m\u001b[0m\n\u001b[0;32m--> 424\u001b[0;31m             \u001b[0;32mraise\u001b[0m \u001b[0mself\u001b[0m\u001b[0;34m.\u001b[0m\u001b[0mfailureException\u001b[0m\u001b[0;34m(\u001b[0m\u001b[0mmsg\u001b[0m\u001b[0;34m)\u001b[0m\u001b[0;34m\u001b[0m\u001b[0m\n\u001b[0m\u001b[1;32m    425\u001b[0m \u001b[0;34m\u001b[0m\u001b[0m\n\u001b[1;32m    426\u001b[0m     \u001b[0;32mdef\u001b[0m \u001b[0m_formatMessage\u001b[0m\u001b[0;34m(\u001b[0m\u001b[0mself\u001b[0m\u001b[0;34m,\u001b[0m \u001b[0mmsg\u001b[0m\u001b[0;34m,\u001b[0m \u001b[0mstandardMsg\u001b[0m\u001b[0;34m)\u001b[0m\u001b[0;34m:\u001b[0m\u001b[0;34m\u001b[0m\u001b[0m\n",
        "\u001b[0;31mAssertionError\u001b[0m: False is not true"
       ]
      }
     ],
     "prompt_number": 75
    },
    {
     "cell_type": "code",
     "collapsed": false,
     "input": [
      "def get_name_to_page(name_to_link):\n",
      "    name_to_page = {}\n",
      "    for name, link in name_to_link.iteritems():\n",
      "        print name\n",
      "        url = 'http://clashofclans.wikia.com' + link\n",
      "        page = requests.get(url).text\n",
      "        name_to_page[name] = page\n",
      "    return name_to_page\n",
      "\n",
      "troop_name_to_page = get_name_to_page(troop_name_to_link)\n",
      "tc.assertTrue('minion' in troop_name_to_page)"
     ],
     "language": "python",
     "metadata": {},
     "outputs": [
      {
       "output_type": "stream",
       "stream": "stdout",
       "text": [
        "minion\n",
        "lightning_spell"
       ]
      },
      {
       "output_type": "stream",
       "stream": "stdout",
       "text": [
        "\n",
        "barbarian"
       ]
      },
      {
       "output_type": "stream",
       "stream": "stdout",
       "text": [
        "\n",
        "witch_skeleton"
       ]
      },
      {
       "output_type": "stream",
       "stream": "stdout",
       "text": [
        "\n",
        "healer"
       ]
      },
      {
       "output_type": "stream",
       "stream": "stdout",
       "text": [
        "\n",
        "dragon"
       ]
      },
      {
       "output_type": "stream",
       "stream": "stdout",
       "text": [
        "\n",
        "wall_breaker"
       ]
      },
      {
       "output_type": "stream",
       "stream": "stdout",
       "text": [
        "\n",
        "rage_spell"
       ]
      },
      {
       "output_type": "stream",
       "stream": "stdout",
       "text": [
        "\n",
        "golem"
       ]
      },
      {
       "output_type": "stream",
       "stream": "stdout",
       "text": [
        "\n",
        "giant"
       ]
      },
      {
       "output_type": "stream",
       "stream": "stdout",
       "text": [
        "\n",
        "balloon"
       ]
      },
      {
       "output_type": "stream",
       "stream": "stdout",
       "text": [
        "\n",
        "wizard"
       ]
      },
      {
       "output_type": "stream",
       "stream": "stdout",
       "text": [
        "\n",
        "earthquake_spell"
       ]
      },
      {
       "output_type": "stream",
       "stream": "stdout",
       "text": [
        "\n",
        "barbarian_king"
       ]
      },
      {
       "output_type": "stream",
       "stream": "stdout",
       "text": [
        "\n",
        "jump_spell"
       ]
      },
      {
       "output_type": "stream",
       "stream": "stdout",
       "text": [
        "\n",
        "pekka"
       ]
      },
      {
       "output_type": "stream",
       "stream": "stdout",
       "text": [
        "\n",
        "archer_queen"
       ]
      },
      {
       "output_type": "stream",
       "stream": "stdout",
       "text": [
        "\n",
        "poison_spell"
       ]
      },
      {
       "output_type": "stream",
       "stream": "stdout",
       "text": [
        "\n",
        "healing_spell"
       ]
      },
      {
       "output_type": "stream",
       "stream": "stdout",
       "text": [
        "\n",
        "hog_rider"
       ]
      },
      {
       "output_type": "stream",
       "stream": "stdout",
       "text": [
        "\n",
        "witch"
       ]
      },
      {
       "output_type": "stream",
       "stream": "stdout",
       "text": [
        "\n",
        "goblin"
       ]
      },
      {
       "output_type": "stream",
       "stream": "stdout",
       "text": [
        "\n",
        "haste_spell"
       ]
      },
      {
       "output_type": "stream",
       "stream": "stdout",
       "text": [
        "\n",
        "valkyrie"
       ]
      },
      {
       "output_type": "stream",
       "stream": "stdout",
       "text": [
        "\n",
        "lava_hound_lava_pup"
       ]
      },
      {
       "output_type": "stream",
       "stream": "stdout",
       "text": [
        "\n",
        "archer"
       ]
      },
      {
       "output_type": "stream",
       "stream": "stdout",
       "text": [
        "\n",
        "lava_hound"
       ]
      },
      {
       "output_type": "stream",
       "stream": "stdout",
       "text": [
        "\n",
        "freeze_spell"
       ]
      },
      {
       "output_type": "stream",
       "stream": "stdout",
       "text": [
        "\n",
        "golem_golemite"
       ]
      },
      {
       "output_type": "stream",
       "stream": "stdout",
       "text": [
        "\n",
        "santas_surprise"
       ]
      },
      {
       "output_type": "stream",
       "stream": "stdout",
       "text": [
        "\n"
       ]
      }
     ],
     "prompt_number": 77
    },
    {
     "cell_type": "code",
     "collapsed": false,
     "input": [
      "def get_img_alt(text):\n",
      "    pattern = '.*?alt=\"(.*?)\".*?'\n",
      "    regex = re.compile(pattern)\n",
      "    m = regex.match(text)\n",
      "\n",
      "    \n",
      "    if m:\n",
      "        return m.group(1)\n",
      "    \n",
      "    return ''\n",
      "    \n",
      "img = '<img src=\"data:image/gif;base64,R0lGODlhAQABAIABAAAAAP///yH5BAEAAAEALAAAAAABAAEAQAICTAEAOw%3D%3D\" \t alt=\"Dark elixir\"  \tclass=\"lzy lzyPlcHld \" \t \tdata-image-key=\"Dark_elixir.png\" \tdata-image-name=\"Dark elixir.png\" \t data-src=\"http://img2.wikia.nocookie.net/__cb20150512023705/clashofclans/images/thumb/3/3b/Dark_elixir.png/18px-Dark_elixir.png\"  \t width=\"18\"  \t height=\"18\"  \t \t \t onload=\"if(typeof ImgLzy===&#39;object&#39;){ImgLzy.load(this)}\"  \t>'\n",
      "alt = get_img_alt(img)\n",
      "tc.assertEquals(alt, 'Dark elixir')\n",
      "\n",
      "img2 = 'foo'\n",
      "alt2 = get_img_alt(img2)\n",
      "tc.assertEquals(alt2, '')\n"
     ],
     "language": "python",
     "metadata": {},
     "outputs": [],
     "prompt_number": 80
    },
    {
     "cell_type": "code",
     "collapsed": false,
     "input": [
      "def get_sanitized_column_name( column_name):\n",
      "    return re.sub('<img.*?>', get_img_alt(column_name), column_name)\n",
      "\n",
      "column_name = 'Research Cost <img src=\"http://img4.wikia.nocookie.net/__cb20150512023705/clashofclans/images/thumb/4/43/Elixir.png/18px-Elixir.png\" alt=\"Elixir\" class=\"\" data-image-key=\"Elixir.png\" data-image-name=\"Elixir.png\" width=\"18\" height=\"18\" >'\n",
      "\n",
      "sanitized_column_name =  get_sanitized_column_name(column_name)\n",
      "tc.assertEquals('Research Cost Elixir', sanitized_column_name)"
     ],
     "language": "python",
     "metadata": {},
     "outputs": [],
     "prompt_number": 81
    },
    {
     "cell_type": "code",
     "collapsed": false,
     "input": [
      "def replace_column_names(table):\n",
      "    column_name_list = table.columns.tolist()\n",
      "\n",
      "    new_column_names = []\n",
      "    for column_name in column_name_list:\n",
      "        new_column_name = get_sanitized_column_name(column_name)\n",
      "        new_column_names.append(new_column_name)\n",
      "    table.columns=new_column_names\n",
      "    return table\n"
     ],
     "language": "python",
     "metadata": {},
     "outputs": [],
     "prompt_number": 65
    },
    {
     "cell_type": "code",
     "collapsed": false,
     "input": [
      "def get_name_to_table( regex, name_to_page):\n",
      "   \n",
      "    name_to_table = {}\n",
      "    \n",
      "    for name, page in name_to_page.iteritems():\n",
      "        print 'name='+str(name)\n",
      "    \n",
      "        table_list = pd.read_html(page, match=regex, header=0 )\n",
      "        if len(table_list) > 0 :\n",
      "            table = table_list[0]   \n",
      "            table = replace_column_names(table)\n",
      "            name_to_table[name] = table\n",
      "\n",
      "    return name_to_table\n",
      "\n",
      "#print meta_name_to\n",
      "#print meta_name_to_table\n",
      "#print '----'\n",
      "#print level_name_to_table"
     ],
     "language": "python",
     "metadata": {},
     "outputs": [],
     "prompt_number": 66
    },
    {
     "cell_type": "code",
     "collapsed": false,
     "input": [
      "meta_regex = re.compile('Preferred|Radius')\n",
      "meta_name_to_table = get_name_to_table(meta_regex, troop_name_to_page)\n",
      "print meta_name_to_table['barbarian'].columns.tolist()\n",
      "print '----'\n",
      "level_regex = re.compile('Hitpoints|Total|Duration|Freeze Time|Increase')\n",
      "level_name_to_table = get_name_to_table(level_regex, troop_name_to_page)\n",
      "print level_name_to_table['barbarian'].columns.tolist()\n",
      "print '----'"
     ],
     "language": "python",
     "metadata": {},
     "outputs": [
      {
       "output_type": "stream",
       "stream": "stdout",
       "text": [
        "name=minion\n",
        "name=lightning_spell"
       ]
      },
      {
       "output_type": "stream",
       "stream": "stdout",
       "text": [
        "\n",
        "name=barbarian"
       ]
      },
      {
       "output_type": "stream",
       "stream": "stdout",
       "text": [
        "\n",
        "name=witch_skeleton"
       ]
      },
      {
       "output_type": "stream",
       "stream": "stdout",
       "text": [
        "\n",
        "name=healer"
       ]
      },
      {
       "output_type": "stream",
       "stream": "stdout",
       "text": [
        "\n",
        "name=lava_hound_lava_pup"
       ]
      },
      {
       "output_type": "stream",
       "stream": "stdout",
       "text": [
        "\n",
        "name=wall_breaker"
       ]
      },
      {
       "output_type": "stream",
       "stream": "stdout",
       "text": [
        "\n",
        "name=rage_spell"
       ]
      },
      {
       "output_type": "stream",
       "stream": "stdout",
       "text": [
        "\n",
        "name=golem"
       ]
      },
      {
       "output_type": "stream",
       "stream": "stdout",
       "text": [
        "\n",
        "name=giant"
       ]
      },
      {
       "output_type": "stream",
       "stream": "stdout",
       "text": [
        "\n",
        "name=balloon"
       ]
      },
      {
       "output_type": "stream",
       "stream": "stdout",
       "text": [
        "\n",
        "name=wizard"
       ]
      },
      {
       "output_type": "stream",
       "stream": "stdout",
       "text": [
        "\n",
        "name=earthquake_spell"
       ]
      },
      {
       "output_type": "stream",
       "stream": "stdout",
       "text": [
        "\n",
        "name=barbarian_king"
       ]
      },
      {
       "output_type": "stream",
       "stream": "stdout",
       "text": [
        "\n",
        "name=jump_spell"
       ]
      },
      {
       "output_type": "stream",
       "stream": "stdout",
       "text": [
        "\n",
        "name=pekka"
       ]
      },
      {
       "output_type": "stream",
       "stream": "stdout",
       "text": [
        "\n",
        "name=archer_queen"
       ]
      },
      {
       "output_type": "stream",
       "stream": "stdout",
       "text": [
        "\n",
        "name=poison_spell"
       ]
      },
      {
       "output_type": "stream",
       "stream": "stdout",
       "text": [
        "\n",
        "name=healing_spell"
       ]
      },
      {
       "output_type": "stream",
       "stream": "stdout",
       "text": [
        "\n",
        "name=hog_rider"
       ]
      },
      {
       "output_type": "stream",
       "stream": "stdout",
       "text": [
        "\n",
        "name=witch"
       ]
      },
      {
       "output_type": "stream",
       "stream": "stdout",
       "text": [
        "\n",
        "name=goblin"
       ]
      },
      {
       "output_type": "stream",
       "stream": "stdout",
       "text": [
        "\n",
        "name=haste_spell"
       ]
      },
      {
       "output_type": "stream",
       "stream": "stdout",
       "text": [
        "\n",
        "name=valkyrie"
       ]
      },
      {
       "output_type": "stream",
       "stream": "stdout",
       "text": [
        "\n",
        "name=dragon"
       ]
      },
      {
       "output_type": "stream",
       "stream": "stdout",
       "text": [
        "\n",
        "name=archer"
       ]
      },
      {
       "output_type": "stream",
       "stream": "stdout",
       "text": [
        "\n",
        "name=lava_hound"
       ]
      },
      {
       "output_type": "stream",
       "stream": "stdout",
       "text": [
        "\n",
        "name=freeze_spell"
       ]
      },
      {
       "output_type": "stream",
       "stream": "stdout",
       "text": [
        "\n",
        "name=golem_golemite"
       ]
      },
      {
       "output_type": "stream",
       "stream": "stdout",
       "text": [
        "\n",
        "name=santas_surprise"
       ]
      },
      {
       "output_type": "stream",
       "stream": "stdout",
       "text": [
        "\n",
        "[u'Preferred Target', u'Attack Type', u'Housing Space', u'Training Time', u'Movement Speed', u'Attack Speed', u'Barracks Level Required', u'Range']"
       ]
      },
      {
       "output_type": "stream",
       "stream": "stdout",
       "text": [
        "\n",
        "----\n",
        "name=minion\n",
        "name=lightning_spell"
       ]
      },
      {
       "output_type": "stream",
       "stream": "stdout",
       "text": [
        "\n",
        "name=barbarian"
       ]
      },
      {
       "output_type": "stream",
       "stream": "stdout",
       "text": [
        "\n",
        "name=witch_skeleton"
       ]
      },
      {
       "output_type": "stream",
       "stream": "stdout",
       "text": [
        "\n",
        "name=healer"
       ]
      },
      {
       "output_type": "stream",
       "stream": "stdout",
       "text": [
        "\n",
        "name=lava_hound_lava_pup"
       ]
      },
      {
       "output_type": "stream",
       "stream": "stdout",
       "text": [
        "\n",
        "name=wall_breaker"
       ]
      },
      {
       "output_type": "stream",
       "stream": "stdout",
       "text": [
        "\n",
        "name=rage_spell"
       ]
      },
      {
       "output_type": "stream",
       "stream": "stdout",
       "text": [
        "\n",
        "name=golem"
       ]
      },
      {
       "output_type": "stream",
       "stream": "stdout",
       "text": [
        "\n",
        "name=giant"
       ]
      },
      {
       "output_type": "stream",
       "stream": "stdout",
       "text": [
        "\n",
        "name=balloon"
       ]
      },
      {
       "output_type": "stream",
       "stream": "stdout",
       "text": [
        "\n",
        "name=wizard"
       ]
      },
      {
       "output_type": "stream",
       "stream": "stdout",
       "text": [
        "\n",
        "name=earthquake_spell"
       ]
      },
      {
       "output_type": "stream",
       "stream": "stdout",
       "text": [
        "\n",
        "name=barbarian_king"
       ]
      },
      {
       "output_type": "stream",
       "stream": "stdout",
       "text": [
        "\n",
        "name=jump_spell"
       ]
      },
      {
       "output_type": "stream",
       "stream": "stdout",
       "text": [
        "\n",
        "name=pekka"
       ]
      },
      {
       "output_type": "stream",
       "stream": "stdout",
       "text": [
        "\n",
        "name=archer_queen"
       ]
      },
      {
       "output_type": "stream",
       "stream": "stdout",
       "text": [
        "\n",
        "name=poison_spell"
       ]
      },
      {
       "output_type": "stream",
       "stream": "stdout",
       "text": [
        "\n",
        "name=healing_spell"
       ]
      },
      {
       "output_type": "stream",
       "stream": "stdout",
       "text": [
        "\n",
        "name=hog_rider"
       ]
      },
      {
       "output_type": "stream",
       "stream": "stdout",
       "text": [
        "\n",
        "name=witch"
       ]
      },
      {
       "output_type": "stream",
       "stream": "stdout",
       "text": [
        "\n",
        "name=goblin"
       ]
      },
      {
       "output_type": "stream",
       "stream": "stdout",
       "text": [
        "\n",
        "name=haste_spell"
       ]
      },
      {
       "output_type": "stream",
       "stream": "stdout",
       "text": [
        "\n",
        "name=valkyrie"
       ]
      },
      {
       "output_type": "stream",
       "stream": "stdout",
       "text": [
        "\n",
        "name=dragon"
       ]
      },
      {
       "output_type": "stream",
       "stream": "stdout",
       "text": [
        "\n",
        "name=archer"
       ]
      },
      {
       "output_type": "stream",
       "stream": "stdout",
       "text": [
        "\n",
        "name=lava_hound"
       ]
      },
      {
       "output_type": "stream",
       "stream": "stdout",
       "text": [
        "\n",
        "name=freeze_spell"
       ]
      },
      {
       "output_type": "stream",
       "stream": "stdout",
       "text": [
        "\n",
        "name=golem_golemite"
       ]
      },
      {
       "output_type": "stream",
       "stream": "stdout",
       "text": [
        "\n",
        "name=santas_surprise"
       ]
      },
      {
       "output_type": "stream",
       "stream": "stdout",
       "text": [
        "\n",
        "[u'Level', u'Damage per Second', u'Hitpoints', u'Training Cost Elixir', u'Research Cost Elixir', u'Laboratory Level Required', u'Research Time']"
       ]
      },
      {
       "output_type": "stream",
       "stream": "stdout",
       "text": [
        "\n",
        "----\n"
       ]
      }
     ],
     "prompt_number": 67
    },
    {
     "cell_type": "code",
     "collapsed": false,
     "input": [
      "if not os.path.exists('csv'):\n",
      "    os.makedirs('csv')\n",
      "    \n",
      "for name, table in meta_name_to_table.iteritems():\n",
      "    sanitized_name = 'meta_' + name\n",
      "    print sanitized_name\n",
      "    table.to_csv( path_or_buf='csv/' + sanitized_name  + '.csv', encoding='utf-8')\n",
      "    \n",
      "print'---meta csv done---'\n",
      "\n",
      "\n",
      "for name, table in level_name_to_table.iteritems():\n",
      "    sanitized_name = 'level_' + name\n",
      "    print sanitized_name\n",
      "    table.to_csv( path_or_buf='csv/' + sanitized_name  + '.csv', encoding='utf-8')\n",
      "    \n",
      "print '---levels csv done---'\n",
      "#for name, table in level_name_to_table.iteritems():\n",
      "#    table.to_csv( path_or_buf='csv/level_' + name + '.csv')\n",
      "    \n"
     ],
     "language": "python",
     "metadata": {},
     "outputs": [
      {
       "output_type": "stream",
       "stream": "stdout",
       "text": [
        "meta_minion\n",
        "meta_lightning_spell\n",
        "meta_barbarian\n",
        "meta_witch_skeleton\n",
        "meta_healer\n",
        "meta_dragon\n",
        "meta_wall_breaker\n",
        "meta_rage_spell\n",
        "meta_golem\n",
        "meta_giant\n",
        "meta_balloon\n",
        "meta_wizard\n",
        "meta_earthquake_spell\n",
        "meta_barbarian_king\n",
        "meta_jump_spell\n",
        "meta_pekka\n",
        "meta_archer_queen\n",
        "meta_poison_spell\n",
        "meta_healing_spell\n",
        "meta_hog_rider\n",
        "meta_witch\n",
        "meta_goblin\n",
        "meta_haste_spell\n",
        "meta_valkyrie\n",
        "meta_lava_hound_lava_pup\n",
        "meta_archer\n",
        "meta_lava_hound\n",
        "meta_freeze_spell\n",
        "meta_golem_golemite\n",
        "meta_santas_surprise\n",
        "---meta csv done---\n",
        "level_minion\n",
        "level_lightning_spell\n",
        "level_barbarian\n",
        "level_witch_skeleton\n",
        "level_healer\n",
        "level_dragon\n",
        "level_wall_breaker\n",
        "level_rage_spell\n",
        "level_golem\n",
        "level_giant\n",
        "level_balloon\n",
        "level_wizard\n",
        "level_earthquake_spell\n",
        "level_barbarian_king\n",
        "level_jump_spell\n",
        "level_pekka\n",
        "level_archer_queen\n",
        "level_poison_spell\n",
        "level_healing_spell\n",
        "level_hog_rider\n",
        "level_witch\n",
        "level_goblin\n",
        "level_haste_spell\n",
        "level_valkyrie\n",
        "level_lava_hound_lava_pup\n",
        "level_archer"
       ]
      },
      {
       "output_type": "stream",
       "stream": "stdout",
       "text": [
        "\n",
        "level_lava_hound\n",
        "level_freeze_spell\n",
        "level_golem_golemite\n",
        "level_santas_surprise\n",
        "---levels csv done---\n"
       ]
      }
     ],
     "prompt_number": 10
    },
    {
     "cell_type": "code",
     "collapsed": false,
     "input": [],
     "language": "python",
     "metadata": {},
     "outputs": [],
     "prompt_number": 10
    }
   ],
   "metadata": {}
  }
 ]
}