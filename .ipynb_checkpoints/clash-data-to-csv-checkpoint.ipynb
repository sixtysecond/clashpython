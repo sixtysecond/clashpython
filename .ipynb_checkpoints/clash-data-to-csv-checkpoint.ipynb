{
 "metadata": {
  "name": "",
  "signature": "sha256:bff288d2b0926217066a73b4112b0c1da0c8127f5e5ccc336c1bd30aa58b9114"
 },
 "nbformat": 3,
 "nbformat_minor": 0,
 "worksheets": [
  {
   "cells": [
    {
     "cell_type": "heading",
     "level": 1,
     "metadata": {},
     "source": [
      "Clash of Clans Data To CSV"
     ]
    },
    {
     "cell_type": "code",
     "collapsed": false,
     "input": [
      "import pandas as pd\n",
      "import requests\n",
      "from bs4 import BeautifulSoup\n",
      "import re\n",
      "import os\n",
      "import dateutil, datetime"
     ],
     "language": "python",
     "metadata": {},
     "outputs": [],
     "prompt_number": 4
    },
    {
     "cell_type": "code",
     "collapsed": false,
     "input": [
      "def get_name_to_link(url, attribute_class):\n",
      "    html = requests.get(url)\n",
      "    soup = BeautifulSoup(html.text, \"html.parser\")\n",
      "    table = soup.find('table', attrs={\"class\":attribute_class})\n",
      "    name_to_link = {}\n",
      "    \n",
      "    for row in table.findAll('tr'):\n",
      "        columns = row.findAll('td')\n",
      "        if (columns):\n",
      "            category_link = columns[0].find('a')\n",
      "#            category = str(category_link['title'])\n",
      "            links = columns[1].findAll('a');   \n",
      "            for link in links:\n",
      "            \n",
      "                name = link['title'].lower().replace(' ', '_').replace('/', '_').replace(\"'\", '').replace('.','')\n",
      "                name_to_link[ name ]= link['href']\n",
      "    return name_to_link\n",
      "troop_name_to_link = get_name_to_link('http://clashofclans.wikia.com/wiki/Troops', \"article-table\")\n",
      "\n",
      "#temporarily just use barbarian for faster testing\n",
      "#troop_name_to_link = {u'barbarian': u'/wiki/Barbarian'}\n",
      "print troop_name_to_link\n"
     ],
     "language": "python",
     "metadata": {},
     "outputs": [
      {
       "output_type": "stream",
       "stream": "stdout",
       "text": [
        "{u'minion': u'/wiki/Minion', u'lightning_spell': u'/wiki/Lightning_Spell', u'barbarian': u'/wiki/Barbarian', u'witch_skeleton': u'/wiki/Witch/Skeleton', u'healer': u'/wiki/Healer', u'dragon': u'/wiki/Dragon', u'wall_breaker': u'/wiki/Wall_Breaker', u'rage_spell': u'/wiki/Rage_Spell', u'golem': u'/wiki/Golem', u'giant': u'/wiki/Giant', u'balloon': u'/wiki/Balloon', u'wizard': u'/wiki/Wizard', u'earthquake_spell': u'/wiki/Earthquake_Spell', u'barbarian_king': u'/wiki/Barbarian_King', u'jump_spell': u'/wiki/Jump_Spell', u'pekka': u'/wiki/P.E.K.K.A', u'archer_queen': u'/wiki/Archer_Queen', u'poison_spell': u'/wiki/Poison_Spell', u'healing_spell': u'/wiki/Healing_Spell', u'hog_rider': u'/wiki/Hog_Rider', u'witch': u'/wiki/Witch', u'goblin': u'/wiki/Goblin', u'haste_spell': u'/wiki/Haste_Spell', u'valkyrie': u'/wiki/Valkyrie', u'lava_hound_lava_pup': u'/wiki/Lava_Hound/Lava_Pup', u'archer': u'/wiki/Archer', u'lava_hound': u'/wiki/Lava_Hound', u'freeze_spell': u'/wiki/Freeze_Spell', u'golem_golemite': u'/wiki/Golem/Golemite', u'santas_surprise': u'/wiki/Santa%27s_Surprise'}\n"
       ]
      }
     ],
     "prompt_number": 5
    },
    {
     "cell_type": "code",
     "collapsed": false,
     "input": [
      "def get_name_to_page(name_to_link):\n",
      "    name_to_page = {}\n",
      "    for name, link in name_to_link.iteritems():\n",
      "\n",
      "        url = 'http://clashofclans.wikia.com' + link\n",
      "        page = requests.get(url).text\n",
      "        name_to_page[name] = page\n",
      "    return name_to_page\n",
      "\n",
      "troop_name_to_page = get_name_to_page(troop_name_to_link)\n",
      "\n",
      "for name, page in troop_name_to_page.iteritems():\n",
      "    print name\n"
     ],
     "language": "python",
     "metadata": {},
     "outputs": [
      {
       "output_type": "stream",
       "stream": "stdout",
       "text": [
        "minion\n",
        "lightning_spell\n",
        "barbarian\n",
        "witch_skeleton\n",
        "healer\n",
        "lava_hound_lava_pup\n",
        "wall_breaker\n",
        "rage_spell\n",
        "golem\n",
        "giant\n",
        "balloon\n",
        "wizard\n",
        "earthquake_spell\n",
        "barbarian_king\n",
        "jump_spell\n",
        "pekka\n",
        "archer_queen\n",
        "poison_spell\n",
        "healing_spell\n",
        "hog_rider\n",
        "witch\n",
        "goblin\n",
        "haste_spell\n",
        "valkyrie\n",
        "dragon\n",
        "archer\n",
        "lava_hound\n",
        "freeze_spell\n",
        "golem_golemite\n",
        "santas_surprise\n"
       ]
      }
     ],
     "prompt_number": 3
    },
    {
     "cell_type": "code",
     "collapsed": false,
     "input": [
      "def parse_time_delta( time_amount_unit ):\n",
      "    #print 'time_amount_unit='+str(time_amount_unit)\n",
      "    amount_unit= time_amount_unit.split()\n",
      "    #print 'amount_unit' + str(amount_unit)\n",
      "    amount = int(amount_unit[0])\n",
      "    #print 'amount=' + str(amount)\n",
      "    unit = amount_unit[1].lower()\n",
      "    #print 'unit=' + str(unit)\n",
      "    time_delta = None\n",
      "    #print 'unit='+str(unit)\n",
      "    if unit == 'days':\n",
      "        time_delta = datetime.timedelta(days=amount)\n",
      "    elif unit == 'hours':\n",
      "        time_delta = datetime.timedelta(hours=amount)\n",
      "    elif unit == 'minutes':\n",
      "        time_delta = datetime.timedelta(minutes=amount)\n",
      "    elif unit == 'seconds':\n",
      "        time_delta = datetime.timedelta(seconds=amount)\n",
      "    #else\n",
      "        #return dateutil.parser.parse(time_amount_unit)\n",
      "        \n",
      "    return time_delta\n",
      "        \n",
      "    \n",
      "#    timedelta(days=999999999, hours=23, minutes=59, seconds=59, microseconds=999999)\n",
      "\n",
      "    #    epoch_start = datetime.gmtime(0)\n",
      "    \n",
      "   # epoch_date = dateutil.parser.parse(time_string)\n",
      "   # epoch_start = datetime.datetime.fromtimestamp(0)\n",
      "   # print 'start=' +str(epoch_start)\n",
      "   # print 'end=' +str(epoch_date)\n",
      "   # delta = epoch_date - epoch_start\n",
      "    #return delta.total_seconds()\n",
      "    return delta.total_seconds()\n",
      "print parse_time_delta('33 Days')\n",
      "print parse_time_delta('44 Hours')\n",
      "print parse_time_delta('77 Minutes')\n",
      "print parse_time_delta('88 seconds')\n"
     ],
     "language": "python",
     "metadata": {},
     "outputs": [
      {
       "output_type": "stream",
       "stream": "stdout",
       "text": [
        "33 days, 0:00:00\n",
        "1 day, 20:00:00\n",
        "1:17:00\n",
        "0:01:28\n"
       ]
      }
     ],
     "prompt_number": 6
    },
    {
     "cell_type": "code",
     "collapsed": false,
     "input": [
      "def replace_column_names(table, regex, replace_with):\n",
      "    column_name_list = table.columns.tolist()\n",
      "\n",
      "    new_column_names = []\n",
      "    for column_name in column_name_list:\n",
      "        new_column_name = re.sub(regex, replace_with, column_name)\n",
      "        new_column_names.append(new_column_name)\n",
      "    table.columns=new_column_names\n",
      "    return table"
     ],
     "language": "python",
     "metadata": {},
     "outputs": [],
     "prompt_number": 7
    },
    {
     "cell_type": "code",
     "collapsed": false,
     "input": [
      "def get_name_to_table( regex, name_to_page):\n",
      "   \n",
      "    name_to_table = {}\n",
      "    column_replace_regex = '<img.*?>'\n",
      "    column_replace_with = ''\n",
      "    \n",
      "    for name, page in name_to_page.iteritems():\n",
      "        print 'name='+str(name)\n",
      "        soup = BeautifulSoup(page, \"html.parser\")\n",
      "    \n",
      "        table_list = pd.read_html(page, match=regex, header=0 )\n",
      "        if len(table_list) > 0 :\n",
      "            table = table_list[0]   \n",
      "            table = replace_column_names(table, column_replace_regex, column_replace_with)\n",
      "            name_to_table[name] = table\n",
      "\n",
      "    return name_to_table\n",
      "\n",
      "meta_regex = re.compile('Preferred|Radius')\n",
      "meta_name_to_table = get_name_to_table(meta_regex, troop_name_to_page)\n",
      "print meta_name_to_table['barbarian'].columns.tolist()\n",
      "print '----'\n",
      "level_regex = re.compile('Hitpoints|Total|Duration|Freeze Time|Increase')\n",
      "level_name_to_table = get_name_to_table(level_regex, troop_name_to_page)\n",
      "print level_name_to_table['barbarian'].columns.tolist()\n",
      "print '----'\n",
      "\n",
      "print meta_name_to\n",
      "#print meta_name_to_table\n",
      "#print '----'\n",
      "#print level_name_to_table"
     ],
     "language": "python",
     "metadata": {},
     "outputs": [
      {
       "output_type": "stream",
       "stream": "stdout",
       "text": [
        "name=minion\n",
        "name=lightning_spell"
       ]
      },
      {
       "output_type": "stream",
       "stream": "stdout",
       "text": [
        "\n",
        "name=barbarian"
       ]
      },
      {
       "output_type": "stream",
       "stream": "stdout",
       "text": [
        "\n",
        "name=witch_skeleton"
       ]
      },
      {
       "output_type": "stream",
       "stream": "stdout",
       "text": [
        "\n",
        "name=healer"
       ]
      },
      {
       "output_type": "stream",
       "stream": "stdout",
       "text": [
        "\n",
        "name=lava_hound_lava_pup"
       ]
      },
      {
       "output_type": "stream",
       "stream": "stdout",
       "text": [
        "\n",
        "name=wall_breaker"
       ]
      },
      {
       "output_type": "stream",
       "stream": "stdout",
       "text": [
        "\n",
        "name=rage_spell"
       ]
      },
      {
       "output_type": "stream",
       "stream": "stdout",
       "text": [
        "\n",
        "name=golem"
       ]
      },
      {
       "output_type": "stream",
       "stream": "stdout",
       "text": [
        "\n",
        "name=giant"
       ]
      },
      {
       "output_type": "stream",
       "stream": "stdout",
       "text": [
        "\n",
        "name=balloon"
       ]
      },
      {
       "output_type": "stream",
       "stream": "stdout",
       "text": [
        "\n",
        "name=wizard"
       ]
      },
      {
       "output_type": "stream",
       "stream": "stdout",
       "text": [
        "\n",
        "name=earthquake_spell"
       ]
      },
      {
       "output_type": "stream",
       "stream": "stdout",
       "text": [
        "\n",
        "name=barbarian_king"
       ]
      },
      {
       "output_type": "stream",
       "stream": "stdout",
       "text": [
        "\n",
        "name=jump_spell"
       ]
      },
      {
       "output_type": "stream",
       "stream": "stdout",
       "text": [
        "\n",
        "name=pekka"
       ]
      },
      {
       "output_type": "stream",
       "stream": "stdout",
       "text": [
        "\n",
        "name=archer_queen"
       ]
      },
      {
       "output_type": "stream",
       "stream": "stdout",
       "text": [
        "\n",
        "name=poison_spell"
       ]
      },
      {
       "output_type": "stream",
       "stream": "stdout",
       "text": [
        "\n",
        "name=healing_spell"
       ]
      },
      {
       "output_type": "stream",
       "stream": "stdout",
       "text": [
        "\n",
        "name=hog_rider"
       ]
      },
      {
       "output_type": "stream",
       "stream": "stdout",
       "text": [
        "\n",
        "name=witch"
       ]
      },
      {
       "output_type": "stream",
       "stream": "stdout",
       "text": [
        "\n",
        "name=goblin"
       ]
      },
      {
       "output_type": "stream",
       "stream": "stdout",
       "text": [
        "\n",
        "name=haste_spell"
       ]
      },
      {
       "output_type": "stream",
       "stream": "stdout",
       "text": [
        "\n",
        "name=valkyrie"
       ]
      },
      {
       "output_type": "stream",
       "stream": "stdout",
       "text": [
        "\n",
        "name=dragon"
       ]
      },
      {
       "output_type": "stream",
       "stream": "stdout",
       "text": [
        "\n",
        "name=archer"
       ]
      },
      {
       "output_type": "stream",
       "stream": "stdout",
       "text": [
        "\n",
        "name=lava_hound"
       ]
      },
      {
       "output_type": "stream",
       "stream": "stdout",
       "text": [
        "\n",
        "name=freeze_spell"
       ]
      },
      {
       "output_type": "stream",
       "stream": "stdout",
       "text": [
        "\n",
        "name=golem_golemite"
       ]
      },
      {
       "output_type": "stream",
       "stream": "stdout",
       "text": [
        "\n",
        "name=santas_surprise"
       ]
      },
      {
       "output_type": "stream",
       "stream": "stdout",
       "text": [
        "\n",
        "[u'Preferred Target', u'Attack Type', u'Housing Space', u'Training Time', u'Movement Speed', u'Attack Speed', u'Barracks Level Required', u'Range']"
       ]
      },
      {
       "output_type": "stream",
       "stream": "stdout",
       "text": [
        "\n",
        "----\n",
        "name=minion\n",
        "name=lightning_spell"
       ]
      },
      {
       "output_type": "stream",
       "stream": "stdout",
       "text": [
        "\n",
        "name=barbarian"
       ]
      },
      {
       "output_type": "stream",
       "stream": "stdout",
       "text": [
        "\n",
        "name=witch_skeleton"
       ]
      },
      {
       "output_type": "stream",
       "stream": "stdout",
       "text": [
        "\n",
        "name=healer"
       ]
      },
      {
       "output_type": "stream",
       "stream": "stdout",
       "text": [
        "\n",
        "name=lava_hound_lava_pup"
       ]
      },
      {
       "output_type": "stream",
       "stream": "stdout",
       "text": [
        "\n",
        "name=wall_breaker"
       ]
      },
      {
       "output_type": "stream",
       "stream": "stdout",
       "text": [
        "\n",
        "name=rage_spell"
       ]
      },
      {
       "output_type": "stream",
       "stream": "stdout",
       "text": [
        "\n"
       ]
      },
      {
       "ename": "ValueError",
       "evalue": "No tables found matching pattern 'Hitpoints|Total|Duration|Freeze Time'",
       "output_type": "pyerr",
       "traceback": [
        "\u001b[0;31m---------------------------------------------------------------------------\u001b[0m\n\u001b[0;31mValueError\u001b[0m                                Traceback (most recent call last)",
        "\u001b[0;32m<ipython-input-11-509b58270fe3>\u001b[0m in \u001b[0;36m<module>\u001b[0;34m()\u001b[0m\n\u001b[1;32m     22\u001b[0m \u001b[0;32mprint\u001b[0m \u001b[0;34m'----'\u001b[0m\u001b[0;34m\u001b[0m\u001b[0m\n\u001b[1;32m     23\u001b[0m \u001b[0mlevel_regex\u001b[0m \u001b[0;34m=\u001b[0m \u001b[0mre\u001b[0m\u001b[0;34m.\u001b[0m\u001b[0mcompile\u001b[0m\u001b[0;34m(\u001b[0m\u001b[0;34m'Hitpoints|Total|Duration|Freeze Time'\u001b[0m\u001b[0;34m)\u001b[0m\u001b[0;34m\u001b[0m\u001b[0m\n\u001b[0;32m---> 24\u001b[0;31m \u001b[0mlevel_name_to_table\u001b[0m \u001b[0;34m=\u001b[0m \u001b[0mget_name_to_table\u001b[0m\u001b[0;34m(\u001b[0m\u001b[0mlevel_regex\u001b[0m\u001b[0;34m,\u001b[0m \u001b[0mtroop_name_to_page\u001b[0m\u001b[0;34m)\u001b[0m\u001b[0;34m\u001b[0m\u001b[0m\n\u001b[0m\u001b[1;32m     25\u001b[0m \u001b[0;32mprint\u001b[0m \u001b[0mlevel_name_to_table\u001b[0m\u001b[0;34m[\u001b[0m\u001b[0;34m'barbarian'\u001b[0m\u001b[0;34m]\u001b[0m\u001b[0;34m.\u001b[0m\u001b[0mcolumns\u001b[0m\u001b[0;34m.\u001b[0m\u001b[0mtolist\u001b[0m\u001b[0;34m(\u001b[0m\u001b[0;34m)\u001b[0m\u001b[0;34m\u001b[0m\u001b[0m\n\u001b[1;32m     26\u001b[0m \u001b[0;32mprint\u001b[0m \u001b[0;34m'----'\u001b[0m\u001b[0;34m\u001b[0m\u001b[0m\n",
        "\u001b[0;32m<ipython-input-11-509b58270fe3>\u001b[0m in \u001b[0;36mget_name_to_table\u001b[0;34m(regex, name_to_page)\u001b[0m\n\u001b[1;32m      9\u001b[0m         \u001b[0msoup\u001b[0m \u001b[0;34m=\u001b[0m \u001b[0mBeautifulSoup\u001b[0m\u001b[0;34m(\u001b[0m\u001b[0mpage\u001b[0m\u001b[0;34m,\u001b[0m \u001b[0;34m\"html.parser\"\u001b[0m\u001b[0;34m)\u001b[0m\u001b[0;34m\u001b[0m\u001b[0m\n\u001b[1;32m     10\u001b[0m \u001b[0;34m\u001b[0m\u001b[0m\n\u001b[0;32m---> 11\u001b[0;31m         \u001b[0mtable_list\u001b[0m \u001b[0;34m=\u001b[0m \u001b[0mpd\u001b[0m\u001b[0;34m.\u001b[0m\u001b[0mread_html\u001b[0m\u001b[0;34m(\u001b[0m\u001b[0mpage\u001b[0m\u001b[0;34m,\u001b[0m \u001b[0mmatch\u001b[0m\u001b[0;34m=\u001b[0m\u001b[0mregex\u001b[0m\u001b[0;34m,\u001b[0m \u001b[0mheader\u001b[0m\u001b[0;34m=\u001b[0m\u001b[0;36m0\u001b[0m \u001b[0;34m)\u001b[0m\u001b[0;34m\u001b[0m\u001b[0m\n\u001b[0m\u001b[1;32m     12\u001b[0m         \u001b[0;32mif\u001b[0m \u001b[0mlen\u001b[0m\u001b[0;34m(\u001b[0m\u001b[0mtable_list\u001b[0m\u001b[0;34m)\u001b[0m \u001b[0;34m>\u001b[0m \u001b[0;36m0\u001b[0m \u001b[0;34m:\u001b[0m\u001b[0;34m\u001b[0m\u001b[0m\n\u001b[1;32m     13\u001b[0m             \u001b[0mtable\u001b[0m \u001b[0;34m=\u001b[0m \u001b[0mtable_list\u001b[0m\u001b[0;34m[\u001b[0m\u001b[0;36m0\u001b[0m\u001b[0;34m]\u001b[0m\u001b[0;34m\u001b[0m\u001b[0m\n",
        "\u001b[0;32m/Applications/anaconda/anaconda/lib/python2.7/site-packages/pandas/io/html.pyc\u001b[0m in \u001b[0;36mread_html\u001b[0;34m(io, match, flavor, header, index_col, skiprows, infer_types, attrs, parse_dates, tupleize_cols, thousands, encoding)\u001b[0m\n\u001b[1;32m    863\u001b[0m                          'data (you passed a negative value)')\n\u001b[1;32m    864\u001b[0m     return _parse(flavor, io, match, header, index_col, skiprows, infer_types,\n\u001b[0;32m--> 865\u001b[0;31m                   parse_dates, tupleize_cols, thousands, attrs, encoding)\n\u001b[0m",
        "\u001b[0;32m/Applications/anaconda/anaconda/lib/python2.7/site-packages/pandas/io/html.pyc\u001b[0m in \u001b[0;36m_parse\u001b[0;34m(flavor, io, match, header, index_col, skiprows, infer_types, parse_dates, tupleize_cols, thousands, attrs, encoding)\u001b[0m\n\u001b[1;32m    726\u001b[0m             \u001b[0;32mbreak\u001b[0m\u001b[0;34m\u001b[0m\u001b[0m\n\u001b[1;32m    727\u001b[0m     \u001b[0;32melse\u001b[0m\u001b[0;34m:\u001b[0m\u001b[0;34m\u001b[0m\u001b[0m\n\u001b[0;32m--> 728\u001b[0;31m         \u001b[0mraise_with_traceback\u001b[0m\u001b[0;34m(\u001b[0m\u001b[0mretained\u001b[0m\u001b[0;34m)\u001b[0m\u001b[0;34m\u001b[0m\u001b[0m\n\u001b[0m\u001b[1;32m    729\u001b[0m \u001b[0;34m\u001b[0m\u001b[0m\n\u001b[1;32m    730\u001b[0m     \u001b[0mret\u001b[0m \u001b[0;34m=\u001b[0m \u001b[0;34m[\u001b[0m\u001b[0;34m]\u001b[0m\u001b[0;34m\u001b[0m\u001b[0m\n",
        "\u001b[0;32m/Applications/anaconda/anaconda/lib/python2.7/site-packages/pandas/io/html.pyc\u001b[0m in \u001b[0;36m_parse\u001b[0;34m(flavor, io, match, header, index_col, skiprows, infer_types, parse_dates, tupleize_cols, thousands, attrs, encoding)\u001b[0m\n\u001b[1;32m    720\u001b[0m \u001b[0;34m\u001b[0m\u001b[0m\n\u001b[1;32m    721\u001b[0m         \u001b[0;32mtry\u001b[0m\u001b[0;34m:\u001b[0m\u001b[0;34m\u001b[0m\u001b[0m\n\u001b[0;32m--> 722\u001b[0;31m             \u001b[0mtables\u001b[0m \u001b[0;34m=\u001b[0m \u001b[0mp\u001b[0m\u001b[0;34m.\u001b[0m\u001b[0mparse_tables\u001b[0m\u001b[0;34m(\u001b[0m\u001b[0;34m)\u001b[0m\u001b[0;34m\u001b[0m\u001b[0m\n\u001b[0m\u001b[1;32m    723\u001b[0m         \u001b[0;32mexcept\u001b[0m \u001b[0mException\u001b[0m \u001b[0;32mas\u001b[0m \u001b[0mcaught\u001b[0m\u001b[0;34m:\u001b[0m\u001b[0;34m\u001b[0m\u001b[0m\n\u001b[1;32m    724\u001b[0m             \u001b[0mretained\u001b[0m \u001b[0;34m=\u001b[0m \u001b[0mcaught\u001b[0m\u001b[0;34m\u001b[0m\u001b[0m\n",
        "\u001b[0;32m/Applications/anaconda/anaconda/lib/python2.7/site-packages/pandas/io/html.pyc\u001b[0m in \u001b[0;36mparse_tables\u001b[0;34m(self)\u001b[0m\n\u001b[1;32m    191\u001b[0m \u001b[0;34m\u001b[0m\u001b[0m\n\u001b[1;32m    192\u001b[0m     \u001b[0;32mdef\u001b[0m \u001b[0mparse_tables\u001b[0m\u001b[0;34m(\u001b[0m\u001b[0mself\u001b[0m\u001b[0;34m)\u001b[0m\u001b[0;34m:\u001b[0m\u001b[0;34m\u001b[0m\u001b[0m\n\u001b[0;32m--> 193\u001b[0;31m         \u001b[0mtables\u001b[0m \u001b[0;34m=\u001b[0m \u001b[0mself\u001b[0m\u001b[0;34m.\u001b[0m\u001b[0m_parse_tables\u001b[0m\u001b[0;34m(\u001b[0m\u001b[0mself\u001b[0m\u001b[0;34m.\u001b[0m\u001b[0m_build_doc\u001b[0m\u001b[0;34m(\u001b[0m\u001b[0;34m)\u001b[0m\u001b[0;34m,\u001b[0m \u001b[0mself\u001b[0m\u001b[0;34m.\u001b[0m\u001b[0mmatch\u001b[0m\u001b[0;34m,\u001b[0m \u001b[0mself\u001b[0m\u001b[0;34m.\u001b[0m\u001b[0mattrs\u001b[0m\u001b[0;34m)\u001b[0m\u001b[0;34m\u001b[0m\u001b[0m\n\u001b[0m\u001b[1;32m    194\u001b[0m         \u001b[0;32mreturn\u001b[0m \u001b[0;34m(\u001b[0m\u001b[0mself\u001b[0m\u001b[0;34m.\u001b[0m\u001b[0m_build_table\u001b[0m\u001b[0;34m(\u001b[0m\u001b[0mtable\u001b[0m\u001b[0;34m)\u001b[0m \u001b[0;32mfor\u001b[0m \u001b[0mtable\u001b[0m \u001b[0;32min\u001b[0m \u001b[0mtables\u001b[0m\u001b[0;34m)\u001b[0m\u001b[0;34m\u001b[0m\u001b[0m\n\u001b[1;32m    195\u001b[0m \u001b[0;34m\u001b[0m\u001b[0m\n",
        "\u001b[0;32m/Applications/anaconda/anaconda/lib/python2.7/site-packages/pandas/io/html.pyc\u001b[0m in \u001b[0;36m_parse_tables\u001b[0;34m(self, doc, match, attrs)\u001b[0m\n\u001b[1;32m    431\u001b[0m         \u001b[0;32mif\u001b[0m \u001b[0;32mnot\u001b[0m \u001b[0mresult\u001b[0m\u001b[0;34m:\u001b[0m\u001b[0;34m\u001b[0m\u001b[0m\n\u001b[1;32m    432\u001b[0m             raise ValueError(\"No tables found matching pattern %r\" %\n\u001b[0;32m--> 433\u001b[0;31m                              match.pattern)\n\u001b[0m\u001b[1;32m    434\u001b[0m         \u001b[0;32mreturn\u001b[0m \u001b[0mresult\u001b[0m\u001b[0;34m\u001b[0m\u001b[0m\n\u001b[1;32m    435\u001b[0m \u001b[0;34m\u001b[0m\u001b[0m\n",
        "\u001b[0;31mValueError\u001b[0m: No tables found matching pattern 'Hitpoints|Total|Duration|Freeze Time'"
       ]
      }
     ],
     "prompt_number": 11
    },
    {
     "cell_type": "code",
     "collapsed": false,
     "input": [
      "if not os.path.exists('csv'):\n",
      "    os.makedirs('csv')\n",
      "    \n",
      "for name, table in meta_name_to_table.iteritems():\n",
      "    sanitized_name = 'meta_' + name\n",
      "    print sanitized_name\n",
      "    table.to_csv( path_or_buf='csv/' + sanitized_name  + '.csv', encoding='utf-8')\n",
      "    \n",
      "print'---meta csv done---'\n",
      "\n",
      "\n",
      "for name, table in level_name_to_table.iteritems():\n",
      "    sanitized_name = 'level_' + name\n",
      "    print sanitized_name\n",
      "    table.to_csv( path_or_buf='csv/' + sanitized_name  + '.csv', encoding='utf-8')\n",
      "    \n",
      "print '---levels csv done---'\n",
      "#for name, table in level_name_to_table.iteritems():\n",
      "#    table.to_csv( path_or_buf='csv/level_' + name + '.csv')\n",
      "    \n"
     ],
     "language": "python",
     "metadata": {},
     "outputs": [
      {
       "output_type": "stream",
       "stream": "stdout",
       "text": [
        "meta_minion\n",
        "meta_lightning_spell\n",
        "meta_barbarian\n",
        "meta_witch_skeleton\n",
        "meta_healer\n",
        "meta_dragon\n",
        "meta_wall_breaker\n",
        "meta_rage_spell\n",
        "meta_golem\n",
        "meta_giant\n",
        "meta_balloon\n",
        "meta_wizard\n",
        "meta_earthquake_spell\n",
        "meta_barbarian_king\n",
        "meta_jump_spell\n",
        "meta_pekka\n",
        "meta_archer_queen\n",
        "meta_poison_spell\n",
        "meta_healing_spell\n",
        "meta_hog_rider\n",
        "meta_witch\n",
        "meta_goblin\n",
        "meta_haste_spell\n",
        "meta_valkyrie\n",
        "meta_lava_hound_lava_pup\n",
        "meta_archer\n",
        "meta_lava_hound\n",
        "meta_freeze_spell\n",
        "meta_golem_golemite\n",
        "meta_santas_surprise\n",
        "---meta csv done---\n",
        "level_minion\n",
        "level_lightning_spell\n",
        "level_barbarian\n",
        "level_witch_skeleton\n",
        "level_healer\n",
        "level_dragon\n",
        "level_wall_breaker\n",
        "level_rage_spell\n",
        "level_golem\n",
        "level_giant\n",
        "level_balloon\n",
        "level_wizard\n",
        "level_earthquake_spell\n",
        "level_barbarian_king\n",
        "level_jump_spell\n",
        "level_pekka\n",
        "level_archer_queen\n",
        "level_poison_spell\n",
        "level_healing_spell\n",
        "level_hog_rider\n",
        "level_witch\n",
        "level_goblin\n",
        "level_haste_spell\n",
        "level_valkyrie\n",
        "level_lava_hound_lava_pup"
       ]
      },
      {
       "output_type": "stream",
       "stream": "stdout",
       "text": [
        "\n",
        "level_archer\n",
        "level_lava_hound\n",
        "level_freeze_spell\n",
        "level_golem_golemite\n",
        "level_santas_surprise\n",
        "---levels csv done---\n"
       ]
      }
     ],
     "prompt_number": 9
    }
   ],
   "metadata": {}
  }
 ]
}