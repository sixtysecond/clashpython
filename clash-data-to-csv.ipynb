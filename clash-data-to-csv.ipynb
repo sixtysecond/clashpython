{
 "metadata": {
  "name": "",
  "signature": "sha256:73c0be78beb44ef0d773ab489f2f174c21b5d1334d58c94437133dd467569853"
 },
 "nbformat": 3,
 "nbformat_minor": 0,
 "worksheets": [
  {
   "cells": [
    {
     "cell_type": "heading",
     "level": 1,
     "metadata": {},
     "source": [
      "Clash of Clans Data To CSV"
     ]
    },
    {
     "cell_type": "code",
     "collapsed": false,
     "input": [
      "import pandas as pd\n",
      "import requests\n",
      "#import urllib, urllib2\n",
      "from bs4 import BeautifulSoup, Comment\n",
      "#import re\n",
      "#import copy\n",
      "#import collections\n",
      "#import convert\n",
      "#import warnings\n",
      "#import csv"
     ],
     "language": "python",
     "metadata": {},
     "outputs": [],
     "prompt_number": 52
    },
    {
     "cell_type": "code",
     "collapsed": false,
     "input": [
      "def get_link_dictionary(url, attribute_class):\n",
      "    html = requests.get(url)\n",
      "    soup = BeautifulSoup(html.text, \"html.parser\")\n",
      "    table = soup.find('table', attrs={\"class\":attribute_class})\n",
      "    dict_link = {}\n",
      "    \n",
      "    for row in table.findAll('tr'):\n",
      "        columns = row.findAll('td')\n",
      "        if (columns):\n",
      "            category_link = columns[0].find('a')\n",
      "            category = str(category_link['title'])\n",
      "            links = columns[1].findAll('a');   \n",
      "            for link in links:\n",
      "                dict_link[str(link['title']) ]= str(link['href'])\n",
      "    return dict_link"
     ],
     "language": "python",
     "metadata": {},
     "outputs": [],
     "prompt_number": 54
    },
    {
     "cell_type": "code",
     "collapsed": false,
     "input": [
      "troop_dict_link = get_link_dictionary('http://clashofclans.wikia.com/wiki/Troops', \"article-table\")\n",
      "#print troop_dict_link\n",
      "\n",
      "#temporarily just use barbarian for faster testing\n",
      "troop_dict_link = {u'Barbarian': u'/wiki/Barbarian'}\n",
      "print troop_dict_link\n"
     ],
     "language": "python",
     "metadata": {},
     "outputs": [
      {
       "output_type": "stream",
       "stream": "stdout",
       "text": [
        "{u'Barbarian': u'/wiki/Barbarian'}\n"
       ]
      }
     ],
     "prompt_number": 59
    },
    {
     "cell_type": "code",
     "collapsed": false,
     "input": [
      "def get_dict_page(dict_link):\n",
      "    dict_page = {}\n",
      "    for key,val in dict_link.iteritems():\n",
      "        troop_url = 'http://clashofclans.wikia.com' + val\n",
      "        troop_page = requests.get(troop_url).text\n",
      "        dict_page[key] = troop_page\n",
      "    return dict_page\n",
      "\n",
      "dict_troop_page = get_dict_page(troop_dict_link)\n",
      "\n",
      "for key, value in dict_troop_page.iteritems():\n",
      "    print key\n"
     ],
     "language": "python",
     "metadata": {},
     "outputs": [
      {
       "output_type": "stream",
       "stream": "stdout",
       "text": [
        "Barbarian\n"
       ]
      }
     ],
     "prompt_number": 63
    },
    {
     "cell_type": "code",
     "collapsed": false,
     "input": [
      "def get_dict_meta( meta_regex, dict_page):\n",
      "    dict_meta = {}\n",
      "    for name, page in dict_page:\n",
      "        soup = BeautifulSoup(page, \"html.parser\")\n",
      "        header_div = troop_soup.find('div',attrs={\"class\" : \"header-column header-title\"})\n",
      "        name = header_div.find('h1').string\n",
      "        print troop_name\n",
      "    \n",
      "        meta_list = pd.read_html(page, match=meta_regex, header=0 )\n",
      "        meta = pd.DataFrame()\n",
      "        if len(troop_meta_list) > 0 :\n",
      "            troop_meta = troop_meta_list[0]   \n",
      "            print troop_meta\n",
      "            dict_meta[name] = troop_meta\n",
      "\n",
      "meta_regex = re.compile('.Preferred.|.Radius.')\n",
      "dict_meta = get_dict_meta(meta_regex, dict_troop_page)\n",
      "print dict_meta\n"
     ],
     "language": "python",
     "metadata": {},
     "outputs": [
      {
       "ename": "ValueError",
       "evalue": "too many values to unpack",
       "output_type": "pyerr",
       "traceback": [
        "\u001b[0;31m---------------------------------------------------------------------------\u001b[0m\n\u001b[0;31mValueError\u001b[0m                                Traceback (most recent call last)",
        "\u001b[0;32m<ipython-input-62-dcb5ca085e1f>\u001b[0m in \u001b[0;36m<module>\u001b[0;34m()\u001b[0m\n\u001b[1;32m     15\u001b[0m \u001b[0;34m\u001b[0m\u001b[0m\n\u001b[1;32m     16\u001b[0m \u001b[0mmeta_regex\u001b[0m \u001b[0;34m=\u001b[0m \u001b[0mre\u001b[0m\u001b[0;34m.\u001b[0m\u001b[0mcompile\u001b[0m\u001b[0;34m(\u001b[0m\u001b[0;34m'.Preferred.|.Radius.'\u001b[0m\u001b[0;34m)\u001b[0m\u001b[0;34m\u001b[0m\u001b[0m\n\u001b[0;32m---> 17\u001b[0;31m \u001b[0mdict_meta\u001b[0m \u001b[0;34m=\u001b[0m \u001b[0mget_dict_meta\u001b[0m\u001b[0;34m(\u001b[0m\u001b[0mmeta_regex\u001b[0m\u001b[0;34m,\u001b[0m \u001b[0mdict_troop_page\u001b[0m\u001b[0;34m)\u001b[0m\u001b[0;34m\u001b[0m\u001b[0m\n\u001b[0m\u001b[1;32m     18\u001b[0m \u001b[0;32mprint\u001b[0m \u001b[0mdict_meta\u001b[0m\u001b[0;34m\u001b[0m\u001b[0m\n",
        "\u001b[0;32m<ipython-input-62-dcb5ca085e1f>\u001b[0m in \u001b[0;36mget_dict_meta\u001b[0;34m(meta_regex, dict_page)\u001b[0m\n\u001b[1;32m      1\u001b[0m \u001b[0;32mdef\u001b[0m \u001b[0mget_dict_meta\u001b[0m\u001b[0;34m(\u001b[0m \u001b[0mmeta_regex\u001b[0m\u001b[0;34m,\u001b[0m \u001b[0mdict_page\u001b[0m\u001b[0;34m)\u001b[0m\u001b[0;34m:\u001b[0m\u001b[0;34m\u001b[0m\u001b[0m\n\u001b[1;32m      2\u001b[0m     \u001b[0mdict_meta\u001b[0m \u001b[0;34m=\u001b[0m \u001b[0;34m{\u001b[0m\u001b[0;34m}\u001b[0m\u001b[0;34m\u001b[0m\u001b[0m\n\u001b[0;32m----> 3\u001b[0;31m     \u001b[0;32mfor\u001b[0m \u001b[0mname\u001b[0m\u001b[0;34m,\u001b[0m \u001b[0mpage\u001b[0m \u001b[0;32min\u001b[0m \u001b[0mdict_page\u001b[0m\u001b[0;34m:\u001b[0m\u001b[0;34m\u001b[0m\u001b[0m\n\u001b[0m\u001b[1;32m      4\u001b[0m         \u001b[0msoup\u001b[0m \u001b[0;34m=\u001b[0m \u001b[0mBeautifulSoup\u001b[0m\u001b[0;34m(\u001b[0m\u001b[0mpage\u001b[0m\u001b[0;34m,\u001b[0m \u001b[0;34m\"html.parser\"\u001b[0m\u001b[0;34m)\u001b[0m\u001b[0;34m\u001b[0m\u001b[0m\n\u001b[1;32m      5\u001b[0m         \u001b[0mheader_div\u001b[0m \u001b[0;34m=\u001b[0m \u001b[0mtroop_soup\u001b[0m\u001b[0;34m.\u001b[0m\u001b[0mfind\u001b[0m\u001b[0;34m(\u001b[0m\u001b[0;34m'div'\u001b[0m\u001b[0;34m,\u001b[0m\u001b[0mattrs\u001b[0m\u001b[0;34m=\u001b[0m\u001b[0;34m{\u001b[0m\u001b[0;34m\"class\"\u001b[0m \u001b[0;34m:\u001b[0m \u001b[0;34m\"header-column header-title\"\u001b[0m\u001b[0;34m}\u001b[0m\u001b[0;34m)\u001b[0m\u001b[0;34m\u001b[0m\u001b[0m\n",
        "\u001b[0;31mValueError\u001b[0m: too many values to unpack"
       ]
      }
     ],
     "prompt_number": 62
    },
    {
     "cell_type": "code",
     "collapsed": false,
     "input": [
      "        #troop_metadata.text = troop_metadata.text.apply(lambda x: x.decode('unicode_escape').encode('ascii', 'ignore').strip())\n",
      "        \n",
      "            column_name_list = troop_metadata.columns.tolist()\n",
      "        \n",
      "            new_column_names = []\n",
      "            for column_name in column_name_list:\n",
      "                print column_name\n",
      "                new_column_names.append(column_name)\n",
      "            \n",
      "            print 'metadata new column names=' \n",
      "            print new_column_names\n",
      "            troop_metadata.columns = new_column_names\n",
      "    \"\"\"    "
     ],
     "language": "python",
     "metadata": {},
     "outputs": []
    },
    {
     "cell_type": "code",
     "collapsed": false,
     "input": [
      "    troup_soup = BeautifulSoup(troop_html, \"html.parser\")\n",
      "    header_div = troup_soup.find('div',attrs={\"class\" : \"header-column header-title\"})\n",
      "    troup_name = header_div.find('h1').string\n",
      "    print troup_name\n",
      "    \n",
      "    troop_metadata_list = pd.read_html(troop_html, match='Range', header=0 )\n",
      "    troop_metadata = pd.DataFrame()\n",
      "    if len(troop_metadata_list) > 0 :\n",
      "        troop_metadata = troop_metadata_list[0]   \n",
      "        print troop_metadata\n",
      "        #troop_metadata.text = troop_metadata.text.apply(lambda x: x.decode('unicode_escape').encode('ascii', 'ignore').strip())\n",
      "        \n",
      "       "
     ],
     "language": "python",
     "metadata": {},
     "outputs": []
    },
    {
     "cell_type": "code",
     "collapsed": false,
     "input": [
      " column_name_list = troop_metadata.columns.tolist()\n",
      "        \n",
      "        new_column_names = []\n",
      "        for column_name in column_name_list:\n",
      "            print column_name\n",
      "            new_column_names.append(column_name)\n",
      "            \n",
      "        print 'metadata new column names=' \n",
      "        print new_column_names\n",
      "        troop_metadata.columns = new_column_names\n",
      "    \"\"\"    \n",
      "    print 'row'\n",
      "    for label, column in troop_metadata.iteritems():\n",
      "        print 'label=' + label\n",
      "        print 'columnabel=' + column\n",
      "    print 'rowend'\n",
      "    \"\"\"     \n",
      "    troop_levels_list = pd.read_html(troop_html, match='Hitpoints', header=0  )\n",
      "    \n",
      "    troop_levels = pd.DataFrame()\n",
      "\n",
      "    if len(troop_levels_list) > 0 :\n",
      "        troop_levels = troop_levels_list[0]\n",
      "        column_name_list = troop_levels.columns.tolist()\n",
      "        \n",
      "        new_column_names = []\n",
      "        for column_name in column_name_list:\n",
      "            new_column_name = re.sub('<img.*?>', '', column_name)\n",
      "            new_column_names.append(new_column_name)\n",
      "        \n",
      "        #print 'troop_levels new column names=' \n",
      "        #print new_column_names\n",
      "        troop_levels.columns = new_column_names\n",
      "  \n",
      "        #print troop_levels.columns\n",
      "        \n",
      "    \n",
      "    #troop = {'name':troup_name, 'metadata':troop_metadata,'levels':troop_levels} \n",
      "    #troop = {'name':troup_name, 'metadata':troop_metadata.to_dict(),'levels':troop_levels.to_dict()}\n",
      "    #troop = {'name':troup_name, 'metadata':troop_metadata.as_matrix(),'levels':troop_levels.as_matrix()}\n",
      "     \n",
      "    #print troop\n",
      "    troop_dict[key] = troop\n",
      "\n",
      "    \n",
      "#dict_troop_page"
     ],
     "language": "python",
     "metadata": {},
     "outputs": []
    },
    {
     "cell_type": "code",
     "collapsed": false,
     "input": [
      "print dict_link\n",
      "\n",
      "dict_meta = {}\n",
      "dict_levels = {}\n",
      "\n",
      "#dict_troop = {}\n",
      "\n",
      "\n",
      "levels_regex = re.compile('Hitpoints.|.Radius.')\n",
      "\n",
      "    \n",
      "print troop_dict['Barbarian']['metadata']\n",
      "print troop_dict['Barbarian']['metadata'].to_json().replace('\\u00a0', ' ').replace(' tiles', '')"
     ],
     "language": "python",
     "metadata": {},
     "outputs": []
    }
   ],
   "metadata": {}
  }
 ]
}