{
 "metadata": {
  "name": "",
  "signature": "sha256:968ed31789b39a344e3e782109d12ab06deb4456eb9011f5da2cdce58b77f7dc"
 },
 "nbformat": 3,
 "nbformat_minor": 0,
 "worksheets": [
  {
   "cells": [
    {
     "cell_type": "heading",
     "level": 1,
     "metadata": {},
     "source": [
      "Load CSV into Dataframe Dictionary"
     ]
    },
    {
     "cell_type": "heading",
     "level": 6,
     "metadata": {},
     "source": [
      "Loads all CSV files in the specified directory as Dataframes. \n",
      "The dataframes are organized into dictionaries, which are further grouped by categories. \n",
      "It is expected that the words are separated by underscored and the first word is a category."
     ]
    },
    {
     "cell_type": "heading",
     "level": 6,
     "metadata": {},
     "source": []
    },
    {
     "cell_type": "code",
     "collapsed": false,
     "input": [
      "import glob\n",
      "import pandas as pd\n",
      "\n",
      "def get_category_to_name_to_dataframe( path ):\n",
      "\n",
      "    category_to_name_to_dataframe = {}\n",
      "    for file in glob.glob(path + \"/*.csv\"):\n",
      "        file_sanitized = file.replace('csv/','').replace('.csv','')\n",
      "        file_split = file_sanitized.split('_')\n",
      "        category = file_split[0]\n",
      "    \n",
      "        if category not in category_to_name_to_dataframe:\n",
      "            category_to_name_to_dataframe[category] = {}\n",
      "\n",
      "        to_replace = category + '_'\n",
      "        name = file_sanitized.replace(to_replace, '')\n",
      "\n",
      "        dataframe = pd.read_csv(file)\n",
      "\n",
      "        #print category\n",
      "        #print name\n",
      "        #print dataframe\n",
      "\n",
      "        category_to_name_to_dataframe[category][name] = dataframe\n",
      "\n",
      "    return category_to_name_to_dataframe\n"
     ],
     "language": "python",
     "metadata": {},
     "outputs": [],
     "prompt_number": 43
    },
    {
     "cell_type": "code",
     "collapsed": false,
     "input": [
      "category_to_name_to_dataframe = get_category_to_name_to_dataframe('csv')\n",
      "\n",
      "for category, name_to_dataframe in category_to_name_to_dataframe.iteritems():\n",
      "    print category\n",
      "#    for name, dataframe in name_to_dataframe.iteritems():\n",
      "#        print name\n",
      "\n",
      "\n",
      "\n",
      "level = category_to_name_to_dataframe['level']\n",
      "\n",
      "\n",
      "meta = category_to_name_to_dataframe['meta']\n",
      "\n",
      "\n",
      "troops = []\n",
      "for name, dataframe in level.iteritems():\n",
      "    #print dataframe.columns\n",
      "    if 'Hitpoints' in dataframe.columns:\n",
      "        troops.append(name)    \n",
      "#print troops\n",
      "\n",
      "meta_columns = set([])\n",
      "for name, dataframe in meta.iteritems():\n",
      "    meta_columns = meta_columns.union(dataframe.columns)\n",
      "    \n",
      "print meta_columns\n",
      "\n",
      "\"\"\"\n",
      "level_troop_fields = []\n",
      "for troop in troops:\n",
      "    troop_to_dataframe = \n",
      "\"\"\""
     ],
     "language": "python",
     "metadata": {},
     "outputs": [
      {
       "output_type": "stream",
       "stream": "stdout",
       "text": [
        "meta\n",
        "level\n",
        "set(['Heal Speed', 'Favourite Target', 'Housing Space', 'Time to Brew', 'Unnamed: 0', 'Range', 'Spell Factory Level Required', 'Targets', 'Attack Speed', 'Dark Spell Factory Level Required', 'Death Damage Radius', 'Number of Pulses', 'Boost Time', 'Search Radius', 'Training Time', 'Preferred Target', 'Time to Create', 'Barracks Level Required', 'Movement Speed', 'Time Between Strikes', 'Radius', 'Time Between Pulses', 'Number of Strikes', 'Summon Cooldown', 'Random Radius', 'Dark Barracks Level Required', 'Attack Type'])\n"
       ]
      },
      {
       "metadata": {},
       "output_type": "pyout",
       "prompt_number": 61,
       "text": [
        "'\\nlevel_troop_fields = []\\nfor troop in troops:\\n    troop_to_dataframe = \\n'"
       ]
      }
     ],
     "prompt_number": 61
    },
    {
     "cell_type": "code",
     "collapsed": false,
     "input": [
      "for "
     ],
     "language": "python",
     "metadata": {},
     "outputs": [
      {
       "ename": "SyntaxError",
       "evalue": "invalid syntax (<ipython-input-46-6555b14f4657>, line 1)",
       "output_type": "pyerr",
       "traceback": [
        "\u001b[0;36m  File \u001b[0;32m\"<ipython-input-46-6555b14f4657>\"\u001b[0;36m, line \u001b[0;32m1\u001b[0m\n\u001b[0;31m    for\u001b[0m\n\u001b[0m        ^\u001b[0m\n\u001b[0;31mSyntaxError\u001b[0m\u001b[0;31m:\u001b[0m invalid syntax\n"
       ]
      }
     ],
     "prompt_number": 46
    },
    {
     "cell_type": "code",
     "collapsed": false,
     "input": [],
     "language": "python",
     "metadata": {},
     "outputs": []
    }
   ],
   "metadata": {}
  }
 ]
}