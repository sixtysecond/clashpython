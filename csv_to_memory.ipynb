{
 "metadata": {
  "name": "",
  "signature": "sha256:f34d389706145a056b9739ff47a18f8114db64a1ee2c566a04284aedb7fff330"
 },
 "nbformat": 3,
 "nbformat_minor": 0,
 "worksheets": [
  {
   "cells": [
    {
     "cell_type": "heading",
     "level": 1,
     "metadata": {},
     "source": [
      "Load CSV into Dataframe Dictionary"
     ]
    },
    {
     "cell_type": "heading",
     "level": 6,
     "metadata": {},
     "source": [
      "Loads all CSV files in the specified directory as Dataframes. \n",
      "The dataframes are organized into dictionaries, which are further grouped by categories. \n",
      "It is expected that the words are separated by underscored and the first word is a category."
     ]
    },
    {
     "cell_type": "heading",
     "level": 6,
     "metadata": {},
     "source": [
      "usage example: \n",
      "#path contents: foo_one.csv, foo_two.csv, bar_three.csv, bar_four.csv\n",
      "csv = get_csv(path)\n",
      "print csv[foo] = {\"foo\": [one, two]}, {\"bar\": {[three, four]}"
     ]
    },
    {
     "cell_type": "code",
     "collapsed": false,
     "input": [
      "import glob\n",
      "import pandas as pd\n",
      "\n",
      "def get_category_to_name_to_dataframe( path ):\n",
      "\n",
      "    category_to_name_to_dataframe = {}\n",
      "    for file in glob.glob(path + \"/*.csv\"):\n",
      "        file_sanitized = file.replace('csv/','').replace('.csv','')\n",
      "        file_split = file_sanitized.split('_')\n",
      "        category = file_split[0]\n",
      "    \n",
      "        if category not in category_to_name_to_dataframe:\n",
      "            category_to_name_to_dataframe[category] = {}\n",
      "\n",
      "        to_replace = category + '_'\n",
      "        name = file_sanitized.replace(to_replace, '')\n",
      "\n",
      "        dataframe = pd.read_csv(file)\n",
      "\n",
      "        #print category\n",
      "        #print name\n",
      "        #print dataframe\n",
      "\n",
      "        category_to_name_to_dataframe[category][name] = dataframe\n",
      "\n",
      "    return category_to_name_to_dataframe\n"
     ],
     "language": "python",
     "metadata": {},
     "outputs": [],
     "prompt_number": 37
    },
    {
     "cell_type": "code",
     "collapsed": false,
     "input": [
      "category_to_name_to_dataframe = get_category_to_name_to_dataframe('csv')\n",
      "\n",
      "for category, name_to_dataframe in category_to_name_to_dataframe.iteritems():\n",
      "    for name, dataframe in name_to_dataframe.iteritems():\n",
      "        print name\n"
     ],
     "language": "python",
     "metadata": {},
     "outputs": [
      {
       "output_type": "stream",
       "stream": "stdout",
       "text": [
        "earthquake_spell\n",
        "lightning_spell\n",
        "barbarian\n",
        "witch_skeleton\n",
        "healer\n",
        "dragon\n",
        "wall_breaker\n",
        "freeze_spell\n",
        "golem\n",
        "giant\n",
        "balloon\n",
        "wizard\n",
        "minion\n",
        "barbarian_king\n",
        "jump_spell\n",
        "pekka\n",
        "archer_queen\n",
        "poison_spell\n",
        "healing_spell\n",
        "hog_rider\n",
        "witch\n",
        "goblin\n",
        "haste_spell\n",
        "valkyrie\n",
        "lava_hound_lava_pup\n",
        "archer\n",
        "lava_hound\n",
        "rage_spell\n",
        "golem_golemite\n",
        "santas_surprise\n",
        "earthquake_spell\n",
        "lightning_spell\n",
        "barbarian\n",
        "witch_skeleton\n",
        "healer\n",
        "dragon\n",
        "wall_breaker\n",
        "freeze_spell\n",
        "golem\n",
        "giant\n",
        "balloon\n",
        "wizard\n",
        "minion\n",
        "barbarian_king\n",
        "jump_spell\n",
        "pekka\n",
        "archer_queen\n",
        "poison_spell\n",
        "healing_spell\n",
        "hog_rider\n",
        "witch\n",
        "goblin\n",
        "haste_spell\n",
        "valkyrie\n",
        "lava_hound_lava_pup\n",
        "archer\n",
        "lava_hound\n",
        "rage_spell\n",
        "golem_golemite\n",
        "santas_surprise\n"
       ]
      }
     ],
     "prompt_number": 39
    },
    {
     "cell_type": "code",
     "collapsed": false,
     "input": [
      "for "
     ],
     "language": "python",
     "metadata": {},
     "outputs": []
    }
   ],
   "metadata": {}
  }
 ]
}